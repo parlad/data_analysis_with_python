{
 "cells": [
  {
   "cell_type": "markdown",
   "metadata": {},
   "source": [
    "Chapter 4. NumPy Basics: Arrays and Vectorized Computation"
   ]
  },
  {
   "cell_type": "code",
   "execution_count": 4,
   "metadata": {},
   "outputs": [],
   "source": [
    "#Numpy array advantaege over regular variable\n",
    "\n",
    "import numpy as np\n",
    "\n",
    "my_arr = np.arange(1000000)\n",
    "\n",
    "my_list = list(range(10000))"
   ]
  },
  {
   "cell_type": "code",
   "execution_count": 5,
   "metadata": {},
   "outputs": [
    {
     "name": "stdout",
     "output_type": "stream",
     "text": [
      "CPU times: user 23.8 ms, sys: 12.8 ms, total: 36.6 ms\n",
      "Wall time: 36.5 ms\n",
      "CPU times: user 5.2 ms, sys: 370 µs, total: 5.57 ms\n",
      "Wall time: 5.63 ms\n"
     ]
    }
   ],
   "source": [
    "%time for _ in range(10): my_arr2 = my_arr * 2\n",
    "        \n",
    "%time for _ in range(10): my_list2 = [x * 2 for x in my_list]        \n"
   ]
  },
  {
   "cell_type": "code",
   "execution_count": 6,
   "metadata": {},
   "outputs": [
    {
     "data": {
      "text/plain": [
       "dtype('float64')"
      ]
     },
     "execution_count": 6,
     "metadata": {},
     "output_type": "execute_result"
    }
   ],
   "source": [
    "data = np.random.randn(2, 3)\n",
    "data * 100\n",
    "\n",
    "data.dtype"
   ]
  },
  {
   "cell_type": "code",
   "execution_count": 7,
   "metadata": {},
   "outputs": [
    {
     "data": {
      "text/plain": [
       "dtype('float64')"
      ]
     },
     "execution_count": 7,
     "metadata": {},
     "output_type": "execute_result"
    }
   ],
   "source": [
    "my_list = [1,4,56,873.34,767,9,899,342]\n",
    "\n",
    "ndarr = np.array(my_list)\n",
    "ndarr\n",
    "\n",
    "ndarr.dtype"
   ]
  },
  {
   "cell_type": "code",
   "execution_count": 8,
   "metadata": {},
   "outputs": [
    {
     "data": {
      "text/plain": [
       "array([[10, 10],\n",
       "       [10, 10]])"
      ]
     },
     "execution_count": 8,
     "metadata": {},
     "output_type": "execute_result"
    }
   ],
   "source": [
    "np.zeros(10)\n",
    "\n",
    "np.full((2,2), 10)"
   ]
  },
  {
   "cell_type": "code",
   "execution_count": null,
   "metadata": {},
   "outputs": [],
   "source": []
  },
  {
   "cell_type": "code",
   "execution_count": 9,
   "metadata": {},
   "outputs": [
    {
     "data": {
      "text/plain": [
       "array([ 0,  1,  2,  3,  4,  5,  6,  7,  8,  9, 10, 11, 12, 13])"
      ]
     },
     "execution_count": 9,
     "metadata": {},
     "output_type": "execute_result"
    }
   ],
   "source": [
    "np.arange(14)"
   ]
  },
  {
   "cell_type": "code",
   "execution_count": 10,
   "metadata": {},
   "outputs": [
    {
     "data": {
      "text/plain": [
       "array([[1., 0., 0.],\n",
       "       [0., 1., 0.],\n",
       "       [0., 0., 1.]])"
      ]
     },
     "execution_count": 10,
     "metadata": {},
     "output_type": "execute_result"
    }
   ],
   "source": [
    "np.eye(3, k=0)"
   ]
  },
  {
   "cell_type": "code",
   "execution_count": 11,
   "metadata": {},
   "outputs": [
    {
     "data": {
      "text/plain": [
       "dtype('int32')"
      ]
     },
     "execution_count": 11,
     "metadata": {},
     "output_type": "execute_result"
    }
   ],
   "source": [
    "arr2 = np.array([1, 2, 3], dtype=np.int32)\n",
    "arr2.dtype"
   ]
  },
  {
   "cell_type": "code",
   "execution_count": 12,
   "metadata": {},
   "outputs": [
    {
     "data": {
      "text/plain": [
       "array([[ True, False,  True],\n",
       "       [False,  True, False]])"
      ]
     },
     "execution_count": 12,
     "metadata": {},
     "output_type": "execute_result"
    }
   ],
   "source": [
    "arr = np.array([[1., 2., 3.], [4., 5., 6.]])\n",
    "\n",
    "arr2 = np.array([[0., 4., 1.], [7., 2., 12.]])\n",
    "\n",
    "arr > arr2"
   ]
  },
  {
   "cell_type": "code",
   "execution_count": 13,
   "metadata": {},
   "outputs": [
    {
     "data": {
      "text/plain": [
       "array([  0,   1,   2,   3,   4, 121, 121, 121,   8,   9])"
      ]
     },
     "execution_count": 13,
     "metadata": {},
     "output_type": "execute_result"
    }
   ],
   "source": [
    "arr = np.arange(10)\n",
    "arr\n",
    "arr[5:8] = 121\n",
    "arr"
   ]
  },
  {
   "cell_type": "code",
   "execution_count": 14,
   "metadata": {},
   "outputs": [
    {
     "data": {
      "text/plain": [
       "array([     0,      1,      2,      3,      4,    121, 121313,    121,\n",
       "            8,      9])"
      ]
     },
     "execution_count": 14,
     "metadata": {},
     "output_type": "execute_result"
    }
   ],
   "source": [
    "arr_slice = arr[5:8]\n",
    "arr_slice\n",
    "\n",
    "arr_slice[1] = 121313\n",
    "\n",
    "\n",
    "arr"
   ]
  },
  {
   "cell_type": "code",
   "execution_count": 15,
   "metadata": {},
   "outputs": [
    {
     "data": {
      "text/plain": [
       "3"
      ]
     },
     "execution_count": 15,
     "metadata": {},
     "output_type": "execute_result"
    }
   ],
   "source": [
    "arr2d = np.array([[1, 2, 3], [4, 5, 6], [7, 8, 9]])\n",
    "arr2d\n",
    "arr2d[0, 2]"
   ]
  },
  {
   "cell_type": "code",
   "execution_count": 16,
   "metadata": {},
   "outputs": [
    {
     "data": {
      "text/plain": [
       "array([[[ 1,  2,  3],\n",
       "        [ 4,  5,  6]],\n",
       "\n",
       "       [[ 7,  8,  9],\n",
       "        [10, 11, 12]]])"
      ]
     },
     "execution_count": 16,
     "metadata": {},
     "output_type": "execute_result"
    }
   ],
   "source": [
    "arr3d = np.array([[[1, 2, 3], [4, 5, 6]], [[7, 8, 9], [10, 11, 12]]])\n",
    "arr3d"
   ]
  },
  {
   "cell_type": "code",
   "execution_count": 17,
   "metadata": {},
   "outputs": [
    {
     "data": {
      "text/plain": [
       "array([[[ 1,  2,  3],\n",
       "        [ 4,  5,  6]],\n",
       "\n",
       "       [[ 7,  8,  9],\n",
       "        [10, 11, 12]]])"
      ]
     },
     "execution_count": 17,
     "metadata": {},
     "output_type": "execute_result"
    }
   ],
   "source": [
    "old_value = arr3d[0].copy()\n",
    "\n",
    "arr3d[0]= 43\n",
    "\n",
    "arr3d[0] = old_value\n",
    "arr3d"
   ]
  },
  {
   "cell_type": "code",
   "execution_count": 18,
   "metadata": {},
   "outputs": [
    {
     "data": {
      "text/plain": [
       "array([  1,   2,   3,   4, 121])"
      ]
     },
     "execution_count": 18,
     "metadata": {},
     "output_type": "execute_result"
    }
   ],
   "source": [
    "arr3d[1, 1]\n",
    "arr[1:6]"
   ]
  },
  {
   "cell_type": "code",
   "execution_count": 19,
   "metadata": {},
   "outputs": [
    {
     "data": {
      "text/plain": [
       "array([[1, 2, 3],\n",
       "       [4, 5, 6]])"
      ]
     },
     "execution_count": 19,
     "metadata": {},
     "output_type": "execute_result"
    }
   ],
   "source": [
    "arr2d[:2, 0:]"
   ]
  },
  {
   "cell_type": "code",
   "execution_count": 20,
   "metadata": {},
   "outputs": [
    {
     "name": "stdout",
     "output_type": "stream",
     "text": [
      "['Bob' 'Joe' 'Will' 'Bob' 'Will' 'Joe' 'Joe']\n"
     ]
    },
    {
     "data": {
      "text/plain": [
       "array([[ 0.33421131, -0.99781303,  1.07275671, -1.41114703],\n",
       "       [ 0.91179723, -1.66129051, -1.40814772,  0.50183526],\n",
       "       [-0.93012637, -0.6175571 , -0.08708855,  1.26857614],\n",
       "       [ 0.01634406,  0.30742852, -0.07773764,  0.51782146],\n",
       "       [ 1.17221871,  0.3151183 , -0.41463804,  0.02491905],\n",
       "       [-0.28599466,  0.34125441, -0.58307568, -1.31353901],\n",
       "       [-0.44727609,  0.31636816, -0.48219384,  1.26306793]])"
      ]
     },
     "execution_count": 20,
     "metadata": {},
     "output_type": "execute_result"
    }
   ],
   "source": [
    "names = np.array(['Bob', 'Joe', 'Will', 'Bob', 'Will', 'Joe', 'Joe'])\n",
    "\n",
    "data = np.random.randn(7, 4)\n",
    "\n",
    "print(names)\n",
    "data"
   ]
  },
  {
   "cell_type": "code",
   "execution_count": 21,
   "metadata": {},
   "outputs": [
    {
     "data": {
      "text/plain": [
       "array([[ 0.33421131, -0.99781303,  1.07275671, -1.41114703],\n",
       "       [ 0.01634406,  0.30742852, -0.07773764,  0.51782146]])"
      ]
     },
     "execution_count": 21,
     "metadata": {},
     "output_type": "execute_result"
    }
   ],
   "source": [
    "data[names == 'Bob']"
   ]
  },
  {
   "cell_type": "code",
   "execution_count": 22,
   "metadata": {},
   "outputs": [
    {
     "data": {
      "text/plain": [
       "array([[ 1.07275671, -1.41114703],\n",
       "       [-0.07773764,  0.51782146]])"
      ]
     },
     "execution_count": 22,
     "metadata": {},
     "output_type": "execute_result"
    }
   ],
   "source": [
    "data[names == 'Bob' ,2:]"
   ]
  },
  {
   "cell_type": "code",
   "execution_count": 27,
   "metadata": {},
   "outputs": [
    {
     "name": "stdout",
     "output_type": "stream",
     "text": [
      "[[0.33421131 0.         1.07275671 0.        ]\n",
      " [0.91179723 0.         0.         0.50183526]\n",
      " [0.         0.         0.         1.26857614]\n",
      " [0.01634406 0.30742852 0.         0.51782146]\n",
      " [1.17221871 0.3151183  0.         0.02491905]\n",
      " [0.         0.34125441 0.         0.        ]\n",
      " [0.         0.31636816 0.         1.26306793]]\n"
     ]
    },
    {
     "data": {
      "text/plain": [
       "array([[0.33421131, 0.        , 1.07275671, 0.        ],\n",
       "       [0.91179723, 0.        , 0.        , 0.50183526],\n",
       "       [0.        , 0.        , 0.        , 1.26857614],\n",
       "       [0.01634406, 0.30742852, 0.        , 0.51782146],\n",
       "       [1.17221871, 0.3151183 , 0.        , 0.02491905],\n",
       "       [0.        , 0.34125441, 0.        , 0.        ],\n",
       "       [0.        , 0.31636816, 0.        , 1.26306793]])"
      ]
     },
     "execution_count": 27,
     "metadata": {},
     "output_type": "execute_result"
    }
   ],
   "source": [
    "print(data)\n",
    "data[data < 0] = 0\n",
    "data"
   ]
  },
  {
   "cell_type": "code",
   "execution_count": 30,
   "metadata": {},
   "outputs": [
    {
     "name": "stdout",
     "output_type": "stream",
     "text": [
      "[[7.         7.         7.         7.        ]\n",
      " [0.91179723 0.         0.         0.50183526]\n",
      " [7.         7.         7.         7.        ]\n",
      " [7.         7.         7.         7.        ]\n",
      " [7.         7.         7.         7.        ]\n",
      " [0.         0.34125441 0.         0.        ]\n",
      " [0.         0.31636816 0.         1.26306793]]\n"
     ]
    },
    {
     "data": {
      "text/plain": [
       "array([[0.91179723, 0.        , 0.        , 0.50183526],\n",
       "       [0.        , 0.34125441, 0.        , 0.        ],\n",
       "       [0.        , 0.31636816, 0.        , 1.26306793]])"
      ]
     },
     "execution_count": 30,
     "metadata": {},
     "output_type": "execute_result"
    }
   ],
   "source": [
    "data[names != 'Joe'] = 7\n",
    "print(data)\n",
    "data[names == 'Joe']"
   ]
  },
  {
   "cell_type": "code",
   "execution_count": 33,
   "metadata": {},
   "outputs": [
    {
     "data": {
      "text/plain": [
       "array([[0., 0., 0., 0.],\n",
       "       [1., 1., 1., 1.],\n",
       "       [2., 2., 2., 2.],\n",
       "       [3., 3., 3., 3.],\n",
       "       [4., 4., 4., 4.],\n",
       "       [5., 5., 5., 5.],\n",
       "       [6., 6., 6., 6.],\n",
       "       [7., 7., 7., 7.]])"
      ]
     },
     "execution_count": 33,
     "metadata": {},
     "output_type": "execute_result"
    }
   ],
   "source": [
    "arr = np.empty((8,4))\n",
    "for i in range(8):\n",
    "    arr[i] = i\n",
    "arr"
   ]
  },
  {
   "cell_type": "code",
   "execution_count": 36,
   "metadata": {},
   "outputs": [
    {
     "data": {
      "text/plain": [
       "array([[4., 4., 4., 4.],\n",
       "       [3., 3., 3., 3.],\n",
       "       [0., 0., 0., 0.],\n",
       "       [6., 6., 6., 6.]])"
      ]
     },
     "execution_count": 36,
     "metadata": {},
     "output_type": "execute_result"
    }
   ],
   "source": [
    "my_arr = arr[[4,3,0,6]]\n",
    "my_arr"
   ]
  },
  {
   "cell_type": "code",
   "execution_count": 37,
   "metadata": {},
   "outputs": [
    {
     "data": {
      "text/plain": [
       "array([[5., 5., 5., 5.],\n",
       "       [3., 3., 3., 3.],\n",
       "       [1., 1., 1., 1.]])"
      ]
     },
     "execution_count": 37,
     "metadata": {},
     "output_type": "execute_result"
    }
   ],
   "source": [
    "arr[[-3, -5, -7]]\n"
   ]
  },
  {
   "cell_type": "code",
   "execution_count": 38,
   "metadata": {},
   "outputs": [
    {
     "data": {
      "text/plain": [
       "array([[ 0,  1,  2,  3],\n",
       "       [ 4,  5,  6,  7],\n",
       "       [ 8,  9, 10, 11],\n",
       "       [12, 13, 14, 15],\n",
       "       [16, 17, 18, 19],\n",
       "       [20, 21, 22, 23],\n",
       "       [24, 25, 26, 27],\n",
       "       [28, 29, 30, 31]])"
      ]
     },
     "execution_count": 38,
     "metadata": {},
     "output_type": "execute_result"
    }
   ],
   "source": [
    "arr = np.arange(32).reshape((8, 4))\n",
    "arr"
   ]
  },
  {
   "cell_type": "code",
   "execution_count": 39,
   "metadata": {},
   "outputs": [
    {
     "data": {
      "text/plain": [
       "array([ 4, 23, 29, 10])"
      ]
     },
     "execution_count": 39,
     "metadata": {},
     "output_type": "execute_result"
    }
   ],
   "source": [
    "arr[[1, 5, 7, 2], [0, 3, 1, 2]]"
   ]
  },
  {
   "cell_type": "code",
   "execution_count": 41,
   "metadata": {},
   "outputs": [
    {
     "data": {
      "text/plain": [
       "array([[ 4,  7,  5,  6],\n",
       "       [20, 23, 21, 22],\n",
       "       [28, 31, 29, 30],\n",
       "       [ 8, 11,  9, 10]])"
      ]
     },
     "execution_count": 41,
     "metadata": {},
     "output_type": "execute_result"
    }
   ],
   "source": [
    "arr[[1, 5, 7, 2]][:, [0, 3, 1, 2]]"
   ]
  },
  {
   "cell_type": "code",
   "execution_count": 44,
   "metadata": {},
   "outputs": [
    {
     "data": {
      "text/plain": [
       "array([[ 0,  1,  2,  3,  4],\n",
       "       [ 5,  6,  7,  8,  9],\n",
       "       [10, 11, 12, 13, 14]])"
      ]
     },
     "execution_count": 44,
     "metadata": {},
     "output_type": "execute_result"
    }
   ],
   "source": [
    "arr = np.arange(15).reshape((3, 5))\n",
    "arr"
   ]
  },
  {
   "cell_type": "code",
   "execution_count": 45,
   "metadata": {},
   "outputs": [
    {
     "data": {
      "text/plain": [
       "array([[ 0,  5, 10],\n",
       "       [ 1,  6, 11],\n",
       "       [ 2,  7, 12],\n",
       "       [ 3,  8, 13],\n",
       "       [ 4,  9, 14]])"
      ]
     },
     "execution_count": 45,
     "metadata": {},
     "output_type": "execute_result"
    }
   ],
   "source": [
    "arr.T"
   ]
  },
  {
   "cell_type": "code",
   "execution_count": 49,
   "metadata": {},
   "outputs": [
    {
     "name": "stdout",
     "output_type": "stream",
     "text": [
      "[[ 0.95119631  0.33087898 -0.01887528]\n",
      " [-0.6649845  -0.03197769  1.06661592]\n",
      " [-0.69787564  1.26490281  0.15905824]\n",
      " [-0.39115289 -0.25834086  0.13408209]\n",
      " [-0.4436905  -2.09483272 -1.78847265]\n",
      " [ 0.71746666 -0.26149426  0.00593941]]\n",
      "[[ 0.95119631 -0.6649845  -0.69787564 -0.39115289 -0.4436905   0.71746666]\n",
      " [ 0.33087898 -0.03197769  1.26490281 -0.25834086 -2.09483272 -0.26149426]\n",
      " [-0.01887528  1.06661592  0.15905824  0.13408209 -1.78847265  0.00593941]]\n"
     ]
    },
    {
     "data": {
      "text/plain": [
       "array([[ 2.69862948,  0.29614541, -0.09289697],\n",
       "       [ 0.29614541,  6.23392598,  3.8711989 ],\n",
       "       [-0.09289697,  3.8711989 ,  4.37997302]])"
      ]
     },
     "execution_count": 49,
     "metadata": {},
     "output_type": "execute_result"
    }
   ],
   "source": [
    "arr = np.random.randn(6, 3)\n",
    "print(arr)\n",
    "print(arr.T)\n",
    "np.dot(arr.T, arr)\n"
   ]
  },
  {
   "cell_type": "code",
   "execution_count": 51,
   "metadata": {},
   "outputs": [
    {
     "data": {
      "text/plain": [
       "array([[[ 0,  1,  2,  3],\n",
       "        [ 4,  5,  6,  7]],\n",
       "\n",
       "       [[ 8,  9, 10, 11],\n",
       "        [12, 13, 14, 15]]])"
      ]
     },
     "execution_count": 51,
     "metadata": {},
     "output_type": "execute_result"
    }
   ],
   "source": [
    "arr = np.arange(16).reshape((2, 2, 4))\n",
    "arr"
   ]
  },
  {
   "cell_type": "code",
   "execution_count": 54,
   "metadata": {},
   "outputs": [
    {
     "data": {
      "text/plain": [
       "array([[[ 0,  1,  2,  3],\n",
       "        [ 8,  9, 10, 11]],\n",
       "\n",
       "       [[ 4,  5,  6,  7],\n",
       "        [12, 13, 14, 15]]])"
      ]
     },
     "execution_count": 54,
     "metadata": {},
     "output_type": "execute_result"
    }
   ],
   "source": [
    "arr.transpose((1, 0, 2))"
   ]
  },
  {
   "cell_type": "code",
   "execution_count": 56,
   "metadata": {},
   "outputs": [
    {
     "data": {
      "text/plain": [
       "array([[[ 0,  4],\n",
       "        [ 1,  5],\n",
       "        [ 2,  6],\n",
       "        [ 3,  7]],\n",
       "\n",
       "       [[ 8, 12],\n",
       "        [ 9, 13],\n",
       "        [10, 14],\n",
       "        [11, 15]]])"
      ]
     },
     "execution_count": 56,
     "metadata": {},
     "output_type": "execute_result"
    }
   ],
   "source": [
    "arr\n",
    "arr.swapaxes(1, 2)"
   ]
  },
  {
   "cell_type": "code",
   "execution_count": 58,
   "metadata": {},
   "outputs": [
    {
     "data": {
      "text/plain": [
       "array([0, 1, 2, 3, 4, 5, 6, 7, 8, 9])"
      ]
     },
     "execution_count": 58,
     "metadata": {},
     "output_type": "execute_result"
    }
   ],
   "source": [
    "arr = np.arange(10)\n",
    "arr"
   ]
  },
  {
   "cell_type": "code",
   "execution_count": 59,
   "metadata": {},
   "outputs": [
    {
     "data": {
      "text/plain": [
       "array([0.        , 1.        , 1.41421356, 1.73205081, 2.        ,\n",
       "       2.23606798, 2.44948974, 2.64575131, 2.82842712, 3.        ])"
      ]
     },
     "execution_count": 59,
     "metadata": {},
     "output_type": "execute_result"
    }
   ],
   "source": [
    " np.sqrt(arr)"
   ]
  },
  {
   "cell_type": "code",
   "execution_count": 60,
   "metadata": {},
   "outputs": [
    {
     "data": {
      "text/plain": [
       "array([1.00000000e+00, 2.71828183e+00, 7.38905610e+00, 2.00855369e+01,\n",
       "       5.45981500e+01, 1.48413159e+02, 4.03428793e+02, 1.09663316e+03,\n",
       "       2.98095799e+03, 8.10308393e+03])"
      ]
     },
     "execution_count": 60,
     "metadata": {},
     "output_type": "execute_result"
    }
   ],
   "source": [
    "np.exp(arr)"
   ]
  },
  {
   "cell_type": "code",
   "execution_count": 61,
   "metadata": {},
   "outputs": [
    {
     "data": {
      "text/plain": [
       "array([ 1.40375312,  0.03537914,  0.29795168,  0.55020021,  0.30502411,\n",
       "        1.15421085,  0.81645057, -0.42934307])"
      ]
     },
     "execution_count": 61,
     "metadata": {},
     "output_type": "execute_result"
    }
   ],
   "source": [
    "x = np.random.randn(8)\n",
    "y = np.random.randn(8)\n",
    "\n",
    "np.maximum(x, y)"
   ]
  },
  {
   "cell_type": "code",
   "execution_count": 66,
   "metadata": {},
   "outputs": [
    {
     "name": "stdout",
     "output_type": "stream",
     "text": [
      "[-9.59978368 -6.80990779 -0.07827899 -0.06279657  3.87314973 -0.85869899\n",
      " -5.16613197]\n",
      "[-0.59978368 -0.80990779 -0.07827899 -0.06279657  0.87314973 -0.85869899\n",
      " -0.16613197]\n",
      "[-9. -6. -0. -0.  3. -0. -5.]\n"
     ]
    }
   ],
   "source": [
    "arr = np.random.randn(7) * 5\n",
    "print(arr)\n",
    "\n",
    "remainder, whole_part = np.modf(arr)\n",
    "print(remainder)\n",
    "print(whole_part)"
   ]
  },
  {
   "cell_type": "code",
   "execution_count": 67,
   "metadata": {},
   "outputs": [
    {
     "name": "stderr",
     "output_type": "stream",
     "text": [
      "/Users/praladneupane/Library/Python/3.7/lib/python/site-packages/ipykernel_launcher.py:1: RuntimeWarning: invalid value encountered in sqrt\n",
      "  \"\"\"Entry point for launching an IPython kernel.\n"
     ]
    },
    {
     "data": {
      "text/plain": [
       "array([       nan,        nan,        nan,        nan, 1.96803194,\n",
       "              nan,        nan])"
      ]
     },
     "execution_count": 67,
     "metadata": {},
     "output_type": "execute_result"
    }
   ],
   "source": [
    "np.sqrt(arr)"
   ]
  },
  {
   "cell_type": "code",
   "execution_count": 69,
   "metadata": {},
   "outputs": [
    {
     "data": {
      "text/plain": [
       "array([[-5.  , -5.  , -5.  , ..., -5.  , -5.  , -5.  ],\n",
       "       [-4.99, -4.99, -4.99, ..., -4.99, -4.99, -4.99],\n",
       "       [-4.98, -4.98, -4.98, ..., -4.98, -4.98, -4.98],\n",
       "       ...,\n",
       "       [ 4.97,  4.97,  4.97, ...,  4.97,  4.97,  4.97],\n",
       "       [ 4.98,  4.98,  4.98, ...,  4.98,  4.98,  4.98],\n",
       "       [ 4.99,  4.99,  4.99, ...,  4.99,  4.99,  4.99]])"
      ]
     },
     "execution_count": 69,
     "metadata": {},
     "output_type": "execute_result"
    }
   ],
   "source": [
    "points = np.arange(-5, 5, 0.01) # 1000 equally spaced points\n",
    "xs, ys = np.meshgrid(points, points)\n",
    "ys"
   ]
  },
  {
   "cell_type": "code",
   "execution_count": 70,
   "metadata": {},
   "outputs": [
    {
     "data": {
      "text/plain": [
       "array([[7.07106781, 7.06400028, 7.05693985, ..., 7.04988652, 7.05693985,\n",
       "        7.06400028],\n",
       "       [7.06400028, 7.05692568, 7.04985815, ..., 7.04279774, 7.04985815,\n",
       "        7.05692568],\n",
       "       [7.05693985, 7.04985815, 7.04278354, ..., 7.03571603, 7.04278354,\n",
       "        7.04985815],\n",
       "       ...,\n",
       "       [7.04988652, 7.04279774, 7.03571603, ..., 7.0286414 , 7.03571603,\n",
       "        7.04279774],\n",
       "       [7.05693985, 7.04985815, 7.04278354, ..., 7.03571603, 7.04278354,\n",
       "        7.04985815],\n",
       "       [7.06400028, 7.05692568, 7.04985815, ..., 7.04279774, 7.04985815,\n",
       "        7.05692568]])"
      ]
     },
     "execution_count": 70,
     "metadata": {},
     "output_type": "execute_result"
    }
   ],
   "source": [
    "z = np.sqrt(xs ** 2 + ys ** 2)\n",
    "z"
   ]
  },
  {
   "cell_type": "code",
   "execution_count": 75,
   "metadata": {},
   "outputs": [
    {
     "data": {
      "text/plain": [
       "Text(0.5, 1.0, 'Image plot of $\\\\sqrt{x^2 + y^2}$ for a grid of values')"
      ]
     },
     "execution_count": 75,
     "metadata": {},
     "output_type": "execute_result"
    },
    {
     "data": {
      "image/png": "[encoded data removed]",
      "text/plain": [
       "<Figure size 432x288 with 2 Axes>"
      ]
     },
     "metadata": {
      "needs_background": "light"
     },
     "output_type": "display_data"
    }
   ],
   "source": [
    "import matplotlib.pyplot as plt\n",
    "\n",
    "plt.imshow(z, cmap=plt.cm.gray); plt.colorbar()\n",
    "\n",
    "plt.title(\"Image plot of $\\sqrt{x^2 + y^2}$ for a grid of values\")"
   ]
  },
  {
   "cell_type": "code",
   "execution_count": 76,
   "metadata": {},
   "outputs": [
    {
     "data": {
      "text/plain": [
       "[1.1, 2.2, 1.3, 1.4, 2.5]"
      ]
     },
     "execution_count": 76,
     "metadata": {},
     "output_type": "execute_result"
    }
   ],
   "source": [
    "xarr = np.array([1.1, 1.2, 1.3, 1.4, 1.5])\n",
    "\n",
    "yarr = np.array([2.1, 2.2, 2.3, 2.4, 2.5])\n",
    "\n",
    "cond = np.array([True, False, True, True, False])\n",
    "\n",
    "result = [(x if c else y)\n",
    "           for x, y, c in zip(xarr, yarr, cond)]\n",
    "result"
   ]
  },
  {
   "cell_type": "code",
   "execution_count": 79,
   "metadata": {},
   "outputs": [
    {
     "data": {
      "text/plain": [
       "array([1.1, 2.2, 1.3, 1.4, 2.5])"
      ]
     },
     "execution_count": 79,
     "metadata": {},
     "output_type": "execute_result"
    }
   ],
   "source": [
    "result = np.where(cond, xarr, yarr)\n",
    "np.where?\n",
    "result"
   ]
  },
  {
   "cell_type": "code",
   "execution_count": 80,
   "metadata": {},
   "outputs": [
    {
     "name": "stdout",
     "output_type": "stream",
     "text": [
      "[[ 0.73792707 -0.74507951 -0.47427671 -0.30856786]\n",
      " [ 0.98624424 -0.35394937  0.07428801  0.64217027]\n",
      " [-0.9536867   1.41373599  1.41803676  0.32394296]\n",
      " [-0.12628748  0.10229807  1.05508149 -0.37531319]]\n"
     ]
    },
    {
     "data": {
      "text/plain": [
       "array([[ True, False, False, False],\n",
       "       [ True, False,  True,  True],\n",
       "       [False,  True,  True,  True],\n",
       "       [False,  True,  True, False]])"
      ]
     },
     "execution_count": 80,
     "metadata": {},
     "output_type": "execute_result"
    }
   ],
   "source": [
    "arr = np.random.randn(4, 4)\n",
    "print(arr)\n",
    "arr > 0"
   ]
  },
  {
   "cell_type": "code",
   "execution_count": 84,
   "metadata": {},
   "outputs": [
    {
     "data": {
      "text/plain": [
       "array([['ok', '2', '2', '2'],\n",
       "       ['ok', '2', 'ok', 'ok'],\n",
       "       ['2', 'ok', 'ok', 'ok'],\n",
       "       ['2', 'ok', 'ok', '2']], dtype='<U21')"
      ]
     },
     "execution_count": 84,
     "metadata": {},
     "output_type": "execute_result"
    }
   ],
   "source": [
    "np.where(arr < 0, 2, 'ok')"
   ]
  },
  {
   "cell_type": "code",
   "execution_count": 85,
   "metadata": {},
   "outputs": [
    {
     "data": {
      "text/plain": [
       "array([[-0.37958367,  0.96901323, -0.0152144 ,  1.42717484],\n",
       "       [-0.20425022, -0.57287708,  0.53569932, -0.00909562],\n",
       "       [-0.09124223, -1.14635913,  0.33157946,  0.75101293],\n",
       "       [ 0.42028617,  0.41986598,  1.02087423,  0.11447649],\n",
       "       [-1.41841884, -1.07130818, -0.74146929,  0.60953372]])"
      ]
     },
     "execution_count": 85,
     "metadata": {},
     "output_type": "execute_result"
    }
   ],
   "source": [
    "arr = np.random.randn(5, 4)\n",
    "arr"
   ]
  },
  {
   "cell_type": "code",
   "execution_count": 86,
   "metadata": {},
   "outputs": [
    {
     "data": {
      "text/plain": [
       "0.04748488602340087"
      ]
     },
     "execution_count": 86,
     "metadata": {},
     "output_type": "execute_result"
    }
   ],
   "source": [
    "arr.mean()"
   ]
  },
  {
   "cell_type": "code",
   "execution_count": 87,
   "metadata": {},
   "outputs": [
    {
     "data": {
      "text/plain": [
       "0.04748488602340087"
      ]
     },
     "execution_count": 87,
     "metadata": {},
     "output_type": "execute_result"
    }
   ],
   "source": [
    "np.mean(arr)"
   ]
  },
  {
   "cell_type": "code",
   "execution_count": 88,
   "metadata": {},
   "outputs": [
    {
     "data": {
      "text/plain": [
       "0.9496977204680174"
      ]
     },
     "execution_count": 88,
     "metadata": {},
     "output_type": "execute_result"
    }
   ],
   "source": [
    "arr.sum()"
   ]
  },
  {
   "cell_type": "code",
   "execution_count": 89,
   "metadata": {},
   "outputs": [
    {
     "data": {
      "text/plain": [
       "array([ 0.5003475 , -0.0626309 , -0.03875224,  0.49387572, -0.65541565])"
      ]
     },
     "execution_count": 89,
     "metadata": {},
     "output_type": "execute_result"
    }
   ],
   "source": [
    "arr.mean(axis=1) #compute mean across the columns"
   ]
  },
  {
   "cell_type": "code",
   "execution_count": 91,
   "metadata": {},
   "outputs": [
    {
     "data": {
      "text/plain": [
       "array([-1.67320878, -1.40166518,  1.13146933,  2.89310236])"
      ]
     },
     "execution_count": 91,
     "metadata": {},
     "output_type": "execute_result"
    }
   ],
   "source": [
    "arr.sum(axis=0) # compute mean across the row"
   ]
  },
  {
   "cell_type": "code",
   "execution_count": 92,
   "metadata": {},
   "outputs": [
    {
     "data": {
      "text/plain": [
       "array([-0.37958367,  0.58942955,  0.57421515,  2.00138999,  1.79713977,\n",
       "        1.22426269,  1.75996201,  1.75086639,  1.65962416,  0.51326503,\n",
       "        0.84484449,  1.59585742,  2.0161436 ,  2.43600958,  3.45688382,\n",
       "        3.57136031,  2.15294147,  1.08163329,  0.340164  ,  0.94969772])"
      ]
     },
     "execution_count": 92,
     "metadata": {},
     "output_type": "execute_result"
    }
   ],
   "source": [
    "arr.cumsum()"
   ]
  },
  {
   "cell_type": "code",
   "execution_count": 93,
   "metadata": {},
   "outputs": [
    {
     "data": {
      "text/plain": [
       "43"
      ]
     },
     "execution_count": 93,
     "metadata": {},
     "output_type": "execute_result"
    }
   ],
   "source": [
    "arr = np.random.randn(100)\n",
    "(arr > 0).sum() # Number of positive values"
   ]
  },
  {
   "cell_type": "code",
   "execution_count": 99,
   "metadata": {},
   "outputs": [
    {
     "data": {
      "text/plain": [
       "array([[-2.29136819e+00, -1.21902947e+00, -2.48544908e-02],\n",
       "       [-3.87930381e-01,  2.41684121e-01,  5.19633695e-01],\n",
       "       [-9.11266329e-01, -6.94422968e-01,  2.83615775e-01],\n",
       "       [-1.49806980e+00, -3.92256285e-01, -2.12509522e-03],\n",
       "       [-7.40557190e-01, -4.32304888e-01,  1.02175595e-01]])"
      ]
     },
     "execution_count": 99,
     "metadata": {},
     "output_type": "execute_result"
    }
   ],
   "source": [
    "arr = np.random.randn(5, 3)\n",
    "arr.sort(1)\n",
    "arr"
   ]
  },
  {
   "cell_type": "code",
   "execution_count": 100,
   "metadata": {},
   "outputs": [
    {
     "data": {
      "text/plain": [
       "-1.810568199256832"
      ]
     },
     "execution_count": 100,
     "metadata": {},
     "output_type": "execute_result"
    }
   ],
   "source": [
    "large_arr = np.random.randn(1000)\n",
    "large_arr.sort()\n",
    "large_arr[int(0.05 * len(large_arr))] # 5% quantile"
   ]
  },
  {
   "cell_type": "code",
   "execution_count": 102,
   "metadata": {},
   "outputs": [
    {
     "data": {
      "text/plain": [
       "array([ True,  True,  True,  True,  True, False,  True])"
      ]
     },
     "execution_count": 102,
     "metadata": {},
     "output_type": "execute_result"
    }
   ],
   "source": [
    "values = np.array([6, 0, 0, 3, 2, 5, 6])\n",
    "np.in1d(values, [2, 3, 6,0])"
   ]
  },
  {
   "cell_type": "code",
   "execution_count": 103,
   "metadata": {},
   "outputs": [
    {
     "data": {
      "text/plain": [
       "array([ 6., 15.])"
      ]
     },
     "execution_count": 103,
     "metadata": {},
     "output_type": "execute_result"
    }
   ],
   "source": [
    "x = np.array([[1., 2., 3.], [4., 5., 6.]])\n",
    "\n",
    "y = np.array([[6., 23.], [-1, 7], [8, 9]])\n",
    "\n",
    "x @ np.ones(3)\n"
   ]
  },
  {
   "cell_type": "code",
   "execution_count": 105,
   "metadata": {},
   "outputs": [
    {
     "data": {
      "text/plain": [
       "array([[ 31.60429376,   5.28059685,  36.45730294, -11.10215635,\n",
       "        -27.28138693],\n",
       "       [  5.28059685,   1.43644657,   6.45265031,  -1.73800508,\n",
       "         -4.39585925],\n",
       "       [ 36.45730294,   6.45265031,  43.12559609, -12.63877934,\n",
       "        -31.75279599],\n",
       "       [-11.10215635,  -1.73800508, -12.63877934,   4.17527123,\n",
       "          9.61455395],\n",
       "       [-27.28138693,  -4.39585925, -31.75279599,   9.61455395,\n",
       "         24.04407956]])"
      ]
     },
     "execution_count": 105,
     "metadata": {},
     "output_type": "execute_result"
    }
   ],
   "source": [
    "from numpy.linalg import inv, qr\n",
    "\n",
    "X = np.random.randn(5, 5)\n",
    "\n",
    "mat = X.T.dot(X)\n",
    "\n",
    "inv(mat)"
   ]
  },
  {
   "cell_type": "code",
   "execution_count": 106,
   "metadata": {},
   "outputs": [
    {
     "data": {
      "text/plain": [
       "array([[ 1.00000000e+00,  2.28496597e-15, -3.68793333e-15,\n",
       "        -6.64661240e-16,  1.30326000e-15],\n",
       "       [-2.30004999e-15,  1.00000000e+00, -1.00079847e-14,\n",
       "        -5.44348893e-16,  2.89270418e-15],\n",
       "       [ 1.95715386e-15,  3.04131306e-15,  1.00000000e+00,\n",
       "        -4.87024626e-15, -1.85813296e-14],\n",
       "       [-8.50805763e-15, -1.50926751e-16, -1.06330580e-15,\n",
       "         1.00000000e+00, -6.43088410e-16],\n",
       "       [-2.59170462e-14,  1.34980837e-15, -1.70633995e-15,\n",
       "         1.09674699e-15,  1.00000000e+00]])"
      ]
     },
     "execution_count": 106,
     "metadata": {},
     "output_type": "execute_result"
    }
   ],
   "source": [
    "mat.dot(inv(mat))"
   ]
  },
  {
   "cell_type": "code",
   "execution_count": 108,
   "metadata": {},
   "outputs": [
    {
     "data": {
      "text/plain": [
       "array([[-3.82230815,  1.39849075,  0.58730892, -3.47868514, -1.92905193],\n",
       "       [ 0.        , -4.45265196,  3.29303632, -1.0983585 ,  3.99004368],\n",
       "       [ 0.        ,  0.        , -1.1603432 ,  1.36832109, -2.10779932],\n",
       "       [ 0.        ,  0.        ,  0.        , -2.74131707,  1.10348256],\n",
       "       [ 0.        ,  0.        ,  0.        ,  0.        ,  0.02023448]])"
      ]
     },
     "execution_count": 108,
     "metadata": {},
     "output_type": "execute_result"
    }
   ],
   "source": [
    "q, r = qr(mat)\n",
    "r"
   ]
  },
  {
   "cell_type": "code",
   "execution_count": 109,
   "metadata": {},
   "outputs": [
    {
     "data": {
      "text/plain": [
       "array([[ 2.10827538,  0.43510018, -1.09023159, -3.70758691],\n",
       "       [ 0.84632111, -0.46845609, -0.88974544,  0.3997039 ],\n",
       "       [-1.44576654, -1.56669985, -0.2496854 ,  0.95008758],\n",
       "       [-0.99376158,  1.46091159,  1.12900284,  0.42794904]])"
      ]
     },
     "execution_count": 109,
     "metadata": {},
     "output_type": "execute_result"
    }
   ],
   "source": [
    "samples = np.random.normal(size=(4, 4))\n",
    "samples"
   ]
  },
  {
   "cell_type": "code",
   "execution_count": 111,
   "metadata": {},
   "outputs": [
    {
     "name": "stdout",
     "output_type": "stream",
     "text": [
      "798 ms ± 7.46 ms per loop (mean ± std. dev. of 7 runs, 1 loop each)\n",
      "23.8 ms ± 606 µs per loop (mean ± std. dev. of 7 runs, 10 loops each)\n"
     ]
    }
   ],
   "source": [
    "from random import normalvariate\n",
    "\n",
    "N = 1000000\n",
    "%timeit samples = [normalvariate(0, 1) for _ in range(N)]\n",
    "\n",
    "%timeit np.random.normal(size=N)"
   ]
  },
  {
   "cell_type": "code",
   "execution_count": 120,
   "metadata": {},
   "outputs": [
    {
     "data": {
      "text/plain": [
       "[<matplotlib.lines.Line2D at 0x11ec294d0>]"
      ]
     },
     "execution_count": 120,
     "metadata": {},
     "output_type": "execute_result"
    },
    {
     "data": {
      "image/png": "[encoded data removed]",
      "text/plain": [
       "<Figure size 432x288 with 1 Axes>"
      ]
     },
     "metadata": {
      "needs_background": "light"
     },
     "output_type": "display_data"
    }
   ],
   "source": [
    "import random\n",
    "\n",
    "position = 0\n",
    "walk = [position]\n",
    "steps = 1000\n",
    "for i in range(steps):\n",
    "    step = 1 if random.randint(0, 1) else -1\n",
    "    position += step\n",
    "    walk.append(position)\n",
    "\n",
    "plt.plot(walk[:100])"
   ]
  },
  {
   "cell_type": "code",
   "execution_count": 121,
   "metadata": {},
   "outputs": [
    {
     "data": {
      "text/plain": [
       "array([[  1,   2,   3, ..., -86, -85, -84],\n",
       "       [  1,   0,   1, ...,  -4,  -5,  -6],\n",
       "       [ -1,   0,  -1, ...,  20,  21,  20],\n",
       "       ...,\n",
       "       [ -1,   0,  -1, ...,  44,  45,  46],\n",
       "       [ -1,  -2,  -1, ...,   6,   5,   4],\n",
       "       [ -1,  -2,  -1, ...,  14,  15,  14]])"
      ]
     },
     "execution_count": 121,
     "metadata": {},
     "output_type": "execute_result"
    }
   ],
   "source": [
    "In [258]: nwalks = 5000\n",
    "\n",
    "In [259]: nsteps = 1000\n",
    "\n",
    "In [260]: draws = np.random.randint(0, 2, size=(nwalks, nsteps)) # 0 or 1\n",
    "\n",
    "In [261]: steps = np.where(draws > 0, 1, -1)\n",
    "\n",
    "In [262]: walks = steps.cumsum(1)\n",
    "\n",
    "In [263]: walks"
   ]
  },
  {
   "cell_type": "code",
   "execution_count": 122,
   "metadata": {},
   "outputs": [
    {
     "data": {
      "text/plain": [
       "120"
      ]
     },
     "execution_count": 122,
     "metadata": {},
     "output_type": "execute_result"
    }
   ],
   "source": [
    "walks.max()"
   ]
  },
  {
   "cell_type": "code",
   "execution_count": 124,
   "metadata": {},
   "outputs": [
    {
     "data": {
      "text/plain": [
       "-130"
      ]
     },
     "execution_count": 124,
     "metadata": {},
     "output_type": "execute_result"
    }
   ],
   "source": [
    "walks.min()"
   ]
  },
  {
   "cell_type": "code",
   "execution_count": 125,
   "metadata": {},
   "outputs": [
    {
     "data": {
      "text/plain": [
       "array([ True, False, False, ...,  True, False, False])"
      ]
     },
     "execution_count": 125,
     "metadata": {},
     "output_type": "execute_result"
    }
   ],
   "source": [
    "hits30 = (np.abs(walks) >= 30).any(1)\n",
    "hits30"
   ]
  },
  {
   "cell_type": "code",
   "execution_count": 126,
   "metadata": {},
   "outputs": [
    {
     "data": {
      "text/plain": [
       "3327"
      ]
     },
     "execution_count": 126,
     "metadata": {},
     "output_type": "execute_result"
    }
   ],
   "source": [
    "hits30.sum() # Number that hit 30 or -30"
   ]
  },
  {
   "cell_type": "code",
   "execution_count": 129,
   "metadata": {},
   "outputs": [
    {
     "data": {
      "text/plain": [
       "array([[-0.14286748,  0.22741137,  0.01849834, ...,  0.28754504,\n",
       "         0.19243884, -0.14678366],\n",
       "       [ 0.05921514,  0.38113027, -0.11446243, ...,  0.11772235,\n",
       "         0.22304352,  0.05525548],\n",
       "       [-0.19598501,  0.08671976,  0.03758244, ..., -0.13656555,\n",
       "         0.36068026, -0.06666337],\n",
       "       ...,\n",
       "       [-0.38010841,  0.03318189, -0.08085631, ..., -0.10930203,\n",
       "        -0.1947853 , -0.04901937],\n",
       "       [ 0.73616866, -0.37319153, -0.54923331, ..., -0.05349125,\n",
       "        -0.04326723,  0.01445534],\n",
       "       [-0.32803684, -0.13060121,  0.28515156, ..., -0.21102866,\n",
       "        -0.08001744,  0.12286797]])"
      ]
     },
     "execution_count": 129,
     "metadata": {},
     "output_type": "execute_result"
    }
   ],
   "source": [
    "crossing_times = (np.abs(walks[hits30]) >= 30).argmax(1)\n",
    "\n",
    "crossing_times.mean()\n",
    "steps = np.random.normal(loc=0, scale=0.25,size=(nwalks, nsteps))\n",
    "steps"
   ]
  },
  {
   "cell_type": "code",
   "execution_count": 131,
   "metadata": {},
   "outputs": [
    {
     "data": {
      "text/plain": [
       "[<matplotlib.lines.Line2D at 0x11d72fa50>,\n",
       " <matplotlib.lines.Line2D at 0x11d74dad0>,\n",
       " <matplotlib.lines.Line2D at 0x11d74dc90>,\n",
       " <matplotlib.lines.Line2D at 0x11d74de50>,\n",
       " <matplotlib.lines.Line2D at 0x11d74dfd0>,\n",
       " <matplotlib.lines.Line2D at 0x11d769210>,\n",
       " <matplotlib.lines.Line2D at 0x11d769450>,\n",
       " <matplotlib.lines.Line2D at 0x11d769610>,\n",
       " <matplotlib.lines.Line2D at 0x11d7697d0>,\n",
       " <matplotlib.lines.Line2D at 0x11d769250>,\n",
       " <matplotlib.lines.Line2D at 0x11d72fa10>,\n",
       " <matplotlib.lines.Line2D at 0x11d769c50>,\n",
       " <matplotlib.lines.Line2D at 0x11d769e10>,\n",
       " <matplotlib.lines.Line2D at 0x11d769fd0>,\n",
       " <matplotlib.lines.Line2D at 0x11d7651d0>,\n",
       " <matplotlib.lines.Line2D at 0x11d765390>,\n",
       " <matplotlib.lines.Line2D at 0x11d765550>,\n",
       " <matplotlib.lines.Line2D at 0x11d765710>,\n",
       " <matplotlib.lines.Line2D at 0x11d7658d0>,\n",
       " <matplotlib.lines.Line2D at 0x11d765a90>,\n",
       " <matplotlib.lines.Line2D at 0x11d765c50>,\n",
       " <matplotlib.lines.Line2D at 0x11d765e10>,\n",
       " <matplotlib.lines.Line2D at 0x11d765fd0>,\n",
       " <matplotlib.lines.Line2D at 0x11d6b01d0>,\n",
       " <matplotlib.lines.Line2D at 0x11d6b0390>,\n",
       " <matplotlib.lines.Line2D at 0x11d6b0550>,\n",
       " <matplotlib.lines.Line2D at 0x11d6b0710>,\n",
       " <matplotlib.lines.Line2D at 0x11d6b08d0>,\n",
       " <matplotlib.lines.Line2D at 0x11d6b0a90>,\n",
       " <matplotlib.lines.Line2D at 0x11d6b0c50>,\n",
       " <matplotlib.lines.Line2D at 0x11d6b0e10>,\n",
       " <matplotlib.lines.Line2D at 0x11d6b0fd0>,\n",
       " <matplotlib.lines.Line2D at 0x11d6b41d0>,\n",
       " <matplotlib.lines.Line2D at 0x11d6b4390>,\n",
       " <matplotlib.lines.Line2D at 0x11d6b4550>,\n",
       " <matplotlib.lines.Line2D at 0x11d6b4710>,\n",
       " <matplotlib.lines.Line2D at 0x11d6b48d0>,\n",
       " <matplotlib.lines.Line2D at 0x11d6b4a90>,\n",
       " <matplotlib.lines.Line2D at 0x11d6b4c50>,\n",
       " <matplotlib.lines.Line2D at 0x11d6b4e10>,\n",
       " <matplotlib.lines.Line2D at 0x11d6b4fd0>,\n",
       " <matplotlib.lines.Line2D at 0x11d6b81d0>,\n",
       " <matplotlib.lines.Line2D at 0x11d6b8390>,\n",
       " <matplotlib.lines.Line2D at 0x11d6b8550>,\n",
       " <matplotlib.lines.Line2D at 0x11d6b8710>,\n",
       " <matplotlib.lines.Line2D at 0x11d6b88d0>,\n",
       " <matplotlib.lines.Line2D at 0x11d6b8a90>,\n",
       " <matplotlib.lines.Line2D at 0x11d6b8c50>,\n",
       " <matplotlib.lines.Line2D at 0x11d6b8e10>,\n",
       " <matplotlib.lines.Line2D at 0x11d6b8fd0>,\n",
       " <matplotlib.lines.Line2D at 0x11d6bc1d0>,\n",
       " <matplotlib.lines.Line2D at 0x11d6bc390>,\n",
       " <matplotlib.lines.Line2D at 0x11d6bc550>,\n",
       " <matplotlib.lines.Line2D at 0x11d6bc710>,\n",
       " <matplotlib.lines.Line2D at 0x11d6bc8d0>,\n",
       " <matplotlib.lines.Line2D at 0x11d6bca90>,\n",
       " <matplotlib.lines.Line2D at 0x11d6bcc50>,\n",
       " <matplotlib.lines.Line2D at 0x11d6bce10>,\n",
       " <matplotlib.lines.Line2D at 0x11d6bcfd0>,\n",
       " <matplotlib.lines.Line2D at 0x11d6c01d0>,\n",
       " <matplotlib.lines.Line2D at 0x11d6c0390>,\n",
       " <matplotlib.lines.Line2D at 0x11d6c0550>,\n",
       " <matplotlib.lines.Line2D at 0x11d6c0710>,\n",
       " <matplotlib.lines.Line2D at 0x11d6c08d0>,\n",
       " <matplotlib.lines.Line2D at 0x11d6c0a90>,\n",
       " <matplotlib.lines.Line2D at 0x11d6c0c50>,\n",
       " <matplotlib.lines.Line2D at 0x11d6c0e10>,\n",
       " <matplotlib.lines.Line2D at 0x11d6c0fd0>,\n",
       " <matplotlib.lines.Line2D at 0x11d6c41d0>,\n",
       " <matplotlib.lines.Line2D at 0x11d6c4390>,\n",
       " <matplotlib.lines.Line2D at 0x11d6c4550>,\n",
       " <matplotlib.lines.Line2D at 0x11d6c4710>,\n",
       " <matplotlib.lines.Line2D at 0x11d6c48d0>,\n",
       " <matplotlib.lines.Line2D at 0x11d6c4a90>,\n",
       " <matplotlib.lines.Line2D at 0x11d6c4c50>,\n",
       " <matplotlib.lines.Line2D at 0x11d6c4e10>,\n",
       " <matplotlib.lines.Line2D at 0x11d6c4fd0>,\n",
       " <matplotlib.lines.Line2D at 0x11d6c91d0>,\n",
       " <matplotlib.lines.Line2D at 0x11d6c9390>,\n",
       " <matplotlib.lines.Line2D at 0x11d6c9550>,\n",
       " <matplotlib.lines.Line2D at 0x11d6c9710>,\n",
       " <matplotlib.lines.Line2D at 0x11d6c98d0>,\n",
       " <matplotlib.lines.Line2D at 0x11d6c9a90>,\n",
       " <matplotlib.lines.Line2D at 0x11d6c9c50>,\n",
       " <matplotlib.lines.Line2D at 0x11d6c9e10>,\n",
       " <matplotlib.lines.Line2D at 0x11d6c9fd0>,\n",
       " <matplotlib.lines.Line2D at 0x11d6ce1d0>,\n",
       " <matplotlib.lines.Line2D at 0x11d6ce390>,\n",
       " <matplotlib.lines.Line2D at 0x11d6ce550>,\n",
       " <matplotlib.lines.Line2D at 0x11d6ce710>,\n",
       " <matplotlib.lines.Line2D at 0x11d6ce8d0>,\n",
       " <matplotlib.lines.Line2D at 0x11d6cea90>,\n",
       " <matplotlib.lines.Line2D at 0x11d6cec50>,\n",
       " <matplotlib.lines.Line2D at 0x11d6cee10>,\n",
       " <matplotlib.lines.Line2D at 0x11d6cefd0>,\n",
       " <matplotlib.lines.Line2D at 0x11d6d21d0>,\n",
       " <matplotlib.lines.Line2D at 0x11d6d2390>,\n",
       " <matplotlib.lines.Line2D at 0x11d6d2550>,\n",
       " <matplotlib.lines.Line2D at 0x11d6d2710>,\n",
       " <matplotlib.lines.Line2D at 0x11d6d28d0>,\n",
       " <matplotlib.lines.Line2D at 0x11d6d2a90>,\n",
       " <matplotlib.lines.Line2D at 0x11d6d2c50>,\n",
       " <matplotlib.lines.Line2D at 0x11d6d2e10>,\n",
       " <matplotlib.lines.Line2D at 0x11d6d2fd0>,\n",
       " <matplotlib.lines.Line2D at 0x11d6d4210>,\n",
       " <matplotlib.lines.Line2D at 0x11d6d43d0>,\n",
       " <matplotlib.lines.Line2D at 0x11d6d4590>,\n",
       " <matplotlib.lines.Line2D at 0x11d6d4750>,\n",
       " <matplotlib.lines.Line2D at 0x11d6d4910>,\n",
       " <matplotlib.lines.Line2D at 0x11d6d4ad0>,\n",
       " <matplotlib.lines.Line2D at 0x11d6d4c90>,\n",
       " <matplotlib.lines.Line2D at 0x11d6d4e50>,\n",
       " <matplotlib.lines.Line2D at 0x11d6d4050>,\n",
       " <matplotlib.lines.Line2D at 0x11d6da1d0>,\n",
       " <matplotlib.lines.Line2D at 0x11d6da390>,\n",
       " <matplotlib.lines.Line2D at 0x11d6da550>,\n",
       " <matplotlib.lines.Line2D at 0x11d6da710>,\n",
       " <matplotlib.lines.Line2D at 0x11d6da8d0>,\n",
       " <matplotlib.lines.Line2D at 0x11d6daa90>,\n",
       " <matplotlib.lines.Line2D at 0x11d6dac50>,\n",
       " <matplotlib.lines.Line2D at 0x11d6dae10>,\n",
       " <matplotlib.lines.Line2D at 0x11d6dafd0>,\n",
       " <matplotlib.lines.Line2D at 0x11d6de1d0>,\n",
       " <matplotlib.lines.Line2D at 0x11d6de390>,\n",
       " <matplotlib.lines.Line2D at 0x11d6de550>,\n",
       " <matplotlib.lines.Line2D at 0x11d6de710>,\n",
       " <matplotlib.lines.Line2D at 0x11d6de8d0>,\n",
       " <matplotlib.lines.Line2D at 0x11d6dea90>,\n",
       " <matplotlib.lines.Line2D at 0x11d6dec50>,\n",
       " <matplotlib.lines.Line2D at 0x11d6dee10>,\n",
       " <matplotlib.lines.Line2D at 0x11d6defd0>,\n",
       " <matplotlib.lines.Line2D at 0x11d6e21d0>,\n",
       " <matplotlib.lines.Line2D at 0x11d6e2390>,\n",
       " <matplotlib.lines.Line2D at 0x11d6e2550>,\n",
       " <matplotlib.lines.Line2D at 0x11d6e2710>,\n",
       " <matplotlib.lines.Line2D at 0x11d6e28d0>,\n",
       " <matplotlib.lines.Line2D at 0x11d6e2a90>,\n",
       " <matplotlib.lines.Line2D at 0x11d6e2c50>,\n",
       " <matplotlib.lines.Line2D at 0x11d6e2e10>,\n",
       " <matplotlib.lines.Line2D at 0x11d6e2fd0>,\n",
       " <matplotlib.lines.Line2D at 0x11d6e71d0>,\n",
       " <matplotlib.lines.Line2D at 0x11d6e7390>,\n",
       " <matplotlib.lines.Line2D at 0x11d6e7550>,\n",
       " <matplotlib.lines.Line2D at 0x11d6e7710>,\n",
       " <matplotlib.lines.Line2D at 0x11d6e78d0>,\n",
       " <matplotlib.lines.Line2D at 0x11d6e7a90>,\n",
       " <matplotlib.lines.Line2D at 0x11d6e7c50>,\n",
       " <matplotlib.lines.Line2D at 0x11d6e7e10>,\n",
       " <matplotlib.lines.Line2D at 0x11d6e7fd0>,\n",
       " <matplotlib.lines.Line2D at 0x11bee11d0>,\n",
       " <matplotlib.lines.Line2D at 0x11bee1390>,\n",
       " <matplotlib.lines.Line2D at 0x11bee1550>,\n",
       " <matplotlib.lines.Line2D at 0x11bee1710>,\n",
       " <matplotlib.lines.Line2D at 0x11bee18d0>,\n",
       " <matplotlib.lines.Line2D at 0x11bee1a90>,\n",
       " <matplotlib.lines.Line2D at 0x11bee1c50>,\n",
       " <matplotlib.lines.Line2D at 0x11bee1e10>,\n",
       " <matplotlib.lines.Line2D at 0x11bee1fd0>,\n",
       " <matplotlib.lines.Line2D at 0x11bee61d0>,\n",
       " <matplotlib.lines.Line2D at 0x11bee6390>,\n",
       " <matplotlib.lines.Line2D at 0x11bee6550>,\n",
       " <matplotlib.lines.Line2D at 0x11bee6710>,\n",
       " <matplotlib.lines.Line2D at 0x11bee68d0>,\n",
       " <matplotlib.lines.Line2D at 0x11bee6a90>,\n",
       " <matplotlib.lines.Line2D at 0x11bee6c50>,\n",
       " <matplotlib.lines.Line2D at 0x11bee6e10>,\n",
       " <matplotlib.lines.Line2D at 0x11bee6fd0>,\n",
       " <matplotlib.lines.Line2D at 0x11beea1d0>,\n",
       " <matplotlib.lines.Line2D at 0x11beea390>,\n",
       " <matplotlib.lines.Line2D at 0x11beea550>,\n",
       " <matplotlib.lines.Line2D at 0x11beea710>,\n",
       " <matplotlib.lines.Line2D at 0x11beea8d0>,\n",
       " <matplotlib.lines.Line2D at 0x11beeaa90>,\n",
       " <matplotlib.lines.Line2D at 0x11beeac50>,\n",
       " <matplotlib.lines.Line2D at 0x11beeae10>,\n",
       " <matplotlib.lines.Line2D at 0x11beeafd0>,\n",
       " <matplotlib.lines.Line2D at 0x11beee1d0>,\n",
       " <matplotlib.lines.Line2D at 0x11beee390>,\n",
       " <matplotlib.lines.Line2D at 0x11beee550>,\n",
       " <matplotlib.lines.Line2D at 0x11beee710>,\n",
       " <matplotlib.lines.Line2D at 0x11beee8d0>,\n",
       " <matplotlib.lines.Line2D at 0x11beeea90>,\n",
       " <matplotlib.lines.Line2D at 0x11beeec50>,\n",
       " <matplotlib.lines.Line2D at 0x11beeee10>,\n",
       " <matplotlib.lines.Line2D at 0x11beeefd0>,\n",
       " <matplotlib.lines.Line2D at 0x11bef21d0>,\n",
       " <matplotlib.lines.Line2D at 0x11bef2390>,\n",
       " <matplotlib.lines.Line2D at 0x11bef2550>,\n",
       " <matplotlib.lines.Line2D at 0x11bef2710>,\n",
       " <matplotlib.lines.Line2D at 0x11bef28d0>,\n",
       " <matplotlib.lines.Line2D at 0x11bef2a90>,\n",
       " <matplotlib.lines.Line2D at 0x11bef2c50>,\n",
       " <matplotlib.lines.Line2D at 0x11bef2e10>,\n",
       " <matplotlib.lines.Line2D at 0x11bef2fd0>,\n",
       " <matplotlib.lines.Line2D at 0x11bef71d0>,\n",
       " <matplotlib.lines.Line2D at 0x11bef7390>,\n",
       " <matplotlib.lines.Line2D at 0x11bef7550>,\n",
       " <matplotlib.lines.Line2D at 0x11bef7710>,\n",
       " <matplotlib.lines.Line2D at 0x11bef78d0>,\n",
       " <matplotlib.lines.Line2D at 0x11bef7a90>,\n",
       " <matplotlib.lines.Line2D at 0x11bef7c50>,\n",
       " <matplotlib.lines.Line2D at 0x11bef7e10>,\n",
       " <matplotlib.lines.Line2D at 0x11bef7fd0>,\n",
       " <matplotlib.lines.Line2D at 0x11befb1d0>,\n",
       " <matplotlib.lines.Line2D at 0x11befb390>,\n",
       " <matplotlib.lines.Line2D at 0x11befb550>,\n",
       " <matplotlib.lines.Line2D at 0x11befb710>,\n",
       " <matplotlib.lines.Line2D at 0x11befb8d0>,\n",
       " <matplotlib.lines.Line2D at 0x11befba90>,\n",
       " <matplotlib.lines.Line2D at 0x11befbc50>,\n",
       " <matplotlib.lines.Line2D at 0x11befbe10>,\n",
       " <matplotlib.lines.Line2D at 0x11befbfd0>,\n",
       " <matplotlib.lines.Line2D at 0x11beff1d0>,\n",
       " <matplotlib.lines.Line2D at 0x11beff390>,\n",
       " <matplotlib.lines.Line2D at 0x11beff550>,\n",
       " <matplotlib.lines.Line2D at 0x11beff710>,\n",
       " <matplotlib.lines.Line2D at 0x11beff8d0>,\n",
       " <matplotlib.lines.Line2D at 0x11beffa90>,\n",
       " <matplotlib.lines.Line2D at 0x11beffc50>,\n",
       " <matplotlib.lines.Line2D at 0x11beffe10>,\n",
       " <matplotlib.lines.Line2D at 0x11befffd0>,\n",
       " <matplotlib.lines.Line2D at 0x11bf031d0>,\n",
       " <matplotlib.lines.Line2D at 0x11bf03390>,\n",
       " <matplotlib.lines.Line2D at 0x11bf03550>,\n",
       " <matplotlib.lines.Line2D at 0x11bf03710>,\n",
       " <matplotlib.lines.Line2D at 0x11bf038d0>,\n",
       " <matplotlib.lines.Line2D at 0x11bf03a90>,\n",
       " <matplotlib.lines.Line2D at 0x11bf03c50>,\n",
       " <matplotlib.lines.Line2D at 0x11bf03e10>,\n",
       " <matplotlib.lines.Line2D at 0x11bf03fd0>,\n",
       " <matplotlib.lines.Line2D at 0x11bf071d0>,\n",
       " <matplotlib.lines.Line2D at 0x11bf07390>,\n",
       " <matplotlib.lines.Line2D at 0x11bf07550>,\n",
       " <matplotlib.lines.Line2D at 0x11bf07710>,\n",
       " <matplotlib.lines.Line2D at 0x11bf078d0>,\n",
       " <matplotlib.lines.Line2D at 0x11bf07a90>,\n",
       " <matplotlib.lines.Line2D at 0x11bf07c50>,\n",
       " <matplotlib.lines.Line2D at 0x11bf07e10>,\n",
       " <matplotlib.lines.Line2D at 0x11bf07fd0>,\n",
       " <matplotlib.lines.Line2D at 0x11bf0c1d0>,\n",
       " <matplotlib.lines.Line2D at 0x11bf0c390>,\n",
       " <matplotlib.lines.Line2D at 0x11bf0c550>,\n",
       " <matplotlib.lines.Line2D at 0x11bf0c710>,\n",
       " <matplotlib.lines.Line2D at 0x11bf0c8d0>,\n",
       " <matplotlib.lines.Line2D at 0x11bf0ca90>,\n",
       " <matplotlib.lines.Line2D at 0x11bf0cc50>,\n",
       " <matplotlib.lines.Line2D at 0x11bf0ce10>,\n",
       " <matplotlib.lines.Line2D at 0x11bf0cfd0>,\n",
       " <matplotlib.lines.Line2D at 0x11bf111d0>,\n",
       " <matplotlib.lines.Line2D at 0x11bf11390>,\n",
       " <matplotlib.lines.Line2D at 0x11bf11550>,\n",
       " <matplotlib.lines.Line2D at 0x11bf11710>,\n",
       " <matplotlib.lines.Line2D at 0x11bf118d0>,\n",
       " <matplotlib.lines.Line2D at 0x11bf11a90>,\n",
       " <matplotlib.lines.Line2D at 0x11bf11c50>,\n",
       " <matplotlib.lines.Line2D at 0x11bf11e10>,\n",
       " <matplotlib.lines.Line2D at 0x11bf11fd0>,\n",
       " <matplotlib.lines.Line2D at 0x11bf151d0>,\n",
       " <matplotlib.lines.Line2D at 0x11bf15390>,\n",
       " <matplotlib.lines.Line2D at 0x11bf15550>,\n",
       " <matplotlib.lines.Line2D at 0x11bf15710>,\n",
       " <matplotlib.lines.Line2D at 0x11bf158d0>,\n",
       " <matplotlib.lines.Line2D at 0x11bf15a90>,\n",
       " <matplotlib.lines.Line2D at 0x11bf15c50>,\n",
       " <matplotlib.lines.Line2D at 0x11bf15e10>,\n",
       " <matplotlib.lines.Line2D at 0x11bf15fd0>,\n",
       " <matplotlib.lines.Line2D at 0x11bf191d0>,\n",
       " <matplotlib.lines.Line2D at 0x11bf19390>,\n",
       " <matplotlib.lines.Line2D at 0x11bf19550>,\n",
       " <matplotlib.lines.Line2D at 0x11bf19710>,\n",
       " <matplotlib.lines.Line2D at 0x11bf198d0>,\n",
       " <matplotlib.lines.Line2D at 0x11bf19a90>,\n",
       " <matplotlib.lines.Line2D at 0x11bf19c50>,\n",
       " <matplotlib.lines.Line2D at 0x11bf19e10>,\n",
       " <matplotlib.lines.Line2D at 0x11bf19fd0>,\n",
       " <matplotlib.lines.Line2D at 0x11bf1d1d0>,\n",
       " <matplotlib.lines.Line2D at 0x11bf1d390>,\n",
       " <matplotlib.lines.Line2D at 0x11bf1d550>,\n",
       " <matplotlib.lines.Line2D at 0x11bf1d710>,\n",
       " <matplotlib.lines.Line2D at 0x11bf1d8d0>,\n",
       " <matplotlib.lines.Line2D at 0x11bf1da90>,\n",
       " <matplotlib.lines.Line2D at 0x11bf1dc50>,\n",
       " <matplotlib.lines.Line2D at 0x11bf1de10>,\n",
       " <matplotlib.lines.Line2D at 0x11bf1dfd0>,\n",
       " <matplotlib.lines.Line2D at 0x11bf211d0>,\n",
       " <matplotlib.lines.Line2D at 0x11bf21390>,\n",
       " <matplotlib.lines.Line2D at 0x11bf21550>,\n",
       " <matplotlib.lines.Line2D at 0x11bf21710>,\n",
       " <matplotlib.lines.Line2D at 0x11bf218d0>,\n",
       " <matplotlib.lines.Line2D at 0x11bf21a90>,\n",
       " <matplotlib.lines.Line2D at 0x11bf21c50>,\n",
       " <matplotlib.lines.Line2D at 0x11bf21e10>,\n",
       " <matplotlib.lines.Line2D at 0x11bf21fd0>,\n",
       " <matplotlib.lines.Line2D at 0x11bf261d0>,\n",
       " <matplotlib.lines.Line2D at 0x11bf26390>,\n",
       " <matplotlib.lines.Line2D at 0x11bf26550>,\n",
       " <matplotlib.lines.Line2D at 0x11bf26710>,\n",
       " <matplotlib.lines.Line2D at 0x11bf268d0>,\n",
       " <matplotlib.lines.Line2D at 0x11bf26a90>,\n",
       " <matplotlib.lines.Line2D at 0x11bf26c50>,\n",
       " <matplotlib.lines.Line2D at 0x11bf26e10>,\n",
       " <matplotlib.lines.Line2D at 0x11bf26fd0>,\n",
       " <matplotlib.lines.Line2D at 0x11bf2a1d0>,\n",
       " <matplotlib.lines.Line2D at 0x11bf2a390>,\n",
       " <matplotlib.lines.Line2D at 0x11bf2a550>,\n",
       " <matplotlib.lines.Line2D at 0x11bf2a710>,\n",
       " <matplotlib.lines.Line2D at 0x11bf2a8d0>,\n",
       " <matplotlib.lines.Line2D at 0x11bf2aa90>,\n",
       " <matplotlib.lines.Line2D at 0x11bf2ac50>,\n",
       " <matplotlib.lines.Line2D at 0x11bf2ae10>,\n",
       " <matplotlib.lines.Line2D at 0x11bf2afd0>,\n",
       " <matplotlib.lines.Line2D at 0x11bf2e1d0>,\n",
       " <matplotlib.lines.Line2D at 0x11bf2e390>,\n",
       " <matplotlib.lines.Line2D at 0x11bf2e550>,\n",
       " <matplotlib.lines.Line2D at 0x11bf2e710>,\n",
       " <matplotlib.lines.Line2D at 0x11bf2e8d0>,\n",
       " <matplotlib.lines.Line2D at 0x11bf2ea90>,\n",
       " <matplotlib.lines.Line2D at 0x11bf2ec50>,\n",
       " <matplotlib.lines.Line2D at 0x11bf2ee10>,\n",
       " <matplotlib.lines.Line2D at 0x11bf2efd0>,\n",
       " <matplotlib.lines.Line2D at 0x11bf311d0>,\n",
       " <matplotlib.lines.Line2D at 0x11bf31390>,\n",
       " <matplotlib.lines.Line2D at 0x11bf31550>,\n",
       " <matplotlib.lines.Line2D at 0x11bf31710>,\n",
       " <matplotlib.lines.Line2D at 0x11bf318d0>,\n",
       " <matplotlib.lines.Line2D at 0x11bf31a90>,\n",
       " <matplotlib.lines.Line2D at 0x11bf31c50>,\n",
       " <matplotlib.lines.Line2D at 0x11bf31e10>,\n",
       " <matplotlib.lines.Line2D at 0x11bf31fd0>,\n",
       " <matplotlib.lines.Line2D at 0x11bf361d0>,\n",
       " <matplotlib.lines.Line2D at 0x11bf36390>,\n",
       " <matplotlib.lines.Line2D at 0x11bf36550>,\n",
       " <matplotlib.lines.Line2D at 0x11bf36710>,\n",
       " <matplotlib.lines.Line2D at 0x11bf368d0>,\n",
       " <matplotlib.lines.Line2D at 0x11bf36a90>,\n",
       " <matplotlib.lines.Line2D at 0x11bf36c50>,\n",
       " <matplotlib.lines.Line2D at 0x11bf36e10>,\n",
       " <matplotlib.lines.Line2D at 0x11bf36fd0>,\n",
       " <matplotlib.lines.Line2D at 0x11bf3b1d0>,\n",
       " <matplotlib.lines.Line2D at 0x11bf3b390>,\n",
       " <matplotlib.lines.Line2D at 0x11bf3b550>,\n",
       " <matplotlib.lines.Line2D at 0x11bf3b710>,\n",
       " <matplotlib.lines.Line2D at 0x11bf3b8d0>,\n",
       " <matplotlib.lines.Line2D at 0x11bf3ba90>,\n",
       " <matplotlib.lines.Line2D at 0x11bf3bc50>,\n",
       " <matplotlib.lines.Line2D at 0x11bf3be10>,\n",
       " <matplotlib.lines.Line2D at 0x11bf3bfd0>,\n",
       " <matplotlib.lines.Line2D at 0x11bf401d0>,\n",
       " <matplotlib.lines.Line2D at 0x11bf40390>,\n",
       " <matplotlib.lines.Line2D at 0x11bf40550>,\n",
       " <matplotlib.lines.Line2D at 0x11bf40710>,\n",
       " <matplotlib.lines.Line2D at 0x11bf408d0>,\n",
       " <matplotlib.lines.Line2D at 0x11bf40a90>,\n",
       " <matplotlib.lines.Line2D at 0x11bf40c50>,\n",
       " <matplotlib.lines.Line2D at 0x11bf40e10>,\n",
       " <matplotlib.lines.Line2D at 0x11bf40fd0>,\n",
       " <matplotlib.lines.Line2D at 0x11bf441d0>,\n",
       " <matplotlib.lines.Line2D at 0x11bf44390>,\n",
       " <matplotlib.lines.Line2D at 0x11bf44550>,\n",
       " <matplotlib.lines.Line2D at 0x11bf44710>,\n",
       " <matplotlib.lines.Line2D at 0x11bf448d0>,\n",
       " <matplotlib.lines.Line2D at 0x11bf44a90>,\n",
       " <matplotlib.lines.Line2D at 0x11bf44c50>,\n",
       " <matplotlib.lines.Line2D at 0x11bf44e10>,\n",
       " <matplotlib.lines.Line2D at 0x11bf44fd0>,\n",
       " <matplotlib.lines.Line2D at 0x11bf471d0>,\n",
       " <matplotlib.lines.Line2D at 0x11bf47390>,\n",
       " <matplotlib.lines.Line2D at 0x11bf47550>,\n",
       " <matplotlib.lines.Line2D at 0x11bf47710>,\n",
       " <matplotlib.lines.Line2D at 0x11bf478d0>,\n",
       " <matplotlib.lines.Line2D at 0x11bf47a90>,\n",
       " <matplotlib.lines.Line2D at 0x11bf47c50>,\n",
       " <matplotlib.lines.Line2D at 0x11bf47e10>,\n",
       " <matplotlib.lines.Line2D at 0x11bf47fd0>,\n",
       " <matplotlib.lines.Line2D at 0x11bf4b1d0>,\n",
       " <matplotlib.lines.Line2D at 0x11bf4b390>,\n",
       " <matplotlib.lines.Line2D at 0x11bf4b550>,\n",
       " <matplotlib.lines.Line2D at 0x11bf4b710>,\n",
       " <matplotlib.lines.Line2D at 0x11bf4b8d0>,\n",
       " <matplotlib.lines.Line2D at 0x11bf4ba90>,\n",
       " <matplotlib.lines.Line2D at 0x11bf4bc50>,\n",
       " <matplotlib.lines.Line2D at 0x11bf4be10>,\n",
       " <matplotlib.lines.Line2D at 0x11bf4bfd0>,\n",
       " <matplotlib.lines.Line2D at 0x11bf4f1d0>,\n",
       " <matplotlib.lines.Line2D at 0x11bf4f390>,\n",
       " <matplotlib.lines.Line2D at 0x11bf4f550>,\n",
       " <matplotlib.lines.Line2D at 0x11bf4f710>,\n",
       " <matplotlib.lines.Line2D at 0x11bf4f8d0>,\n",
       " <matplotlib.lines.Line2D at 0x11bf4fa90>,\n",
       " <matplotlib.lines.Line2D at 0x11bf4fc50>,\n",
       " <matplotlib.lines.Line2D at 0x11bf4fe10>,\n",
       " <matplotlib.lines.Line2D at 0x11bf4ffd0>,\n",
       " <matplotlib.lines.Line2D at 0x11bf531d0>,\n",
       " <matplotlib.lines.Line2D at 0x11bf53390>,\n",
       " <matplotlib.lines.Line2D at 0x11bf53550>,\n",
       " <matplotlib.lines.Line2D at 0x11bf53710>,\n",
       " <matplotlib.lines.Line2D at 0x11bf538d0>,\n",
       " <matplotlib.lines.Line2D at 0x11bf53a90>,\n",
       " <matplotlib.lines.Line2D at 0x11bf53c50>,\n",
       " <matplotlib.lines.Line2D at 0x11bf53e10>,\n",
       " <matplotlib.lines.Line2D at 0x11bf53fd0>,\n",
       " <matplotlib.lines.Line2D at 0x11bf581d0>,\n",
       " <matplotlib.lines.Line2D at 0x11bf58390>,\n",
       " <matplotlib.lines.Line2D at 0x11bf58550>,\n",
       " <matplotlib.lines.Line2D at 0x11bf58710>,\n",
       " <matplotlib.lines.Line2D at 0x11bf588d0>,\n",
       " <matplotlib.lines.Line2D at 0x11bf58a90>,\n",
       " <matplotlib.lines.Line2D at 0x11bf58c50>,\n",
       " <matplotlib.lines.Line2D at 0x11bf58e10>,\n",
       " <matplotlib.lines.Line2D at 0x11bf58fd0>,\n",
       " <matplotlib.lines.Line2D at 0x11bf5d1d0>,\n",
       " <matplotlib.lines.Line2D at 0x11bf5d390>,\n",
       " <matplotlib.lines.Line2D at 0x11bf5d550>,\n",
       " <matplotlib.lines.Line2D at 0x11bf5d710>,\n",
       " <matplotlib.lines.Line2D at 0x11bf5d8d0>,\n",
       " <matplotlib.lines.Line2D at 0x11bf5da90>,\n",
       " <matplotlib.lines.Line2D at 0x11bf5dc50>,\n",
       " <matplotlib.lines.Line2D at 0x11bf5de10>,\n",
       " <matplotlib.lines.Line2D at 0x11bf5dfd0>,\n",
       " <matplotlib.lines.Line2D at 0x11bf611d0>,\n",
       " <matplotlib.lines.Line2D at 0x11bf61390>,\n",
       " <matplotlib.lines.Line2D at 0x11bf61550>,\n",
       " <matplotlib.lines.Line2D at 0x11bf61710>,\n",
       " <matplotlib.lines.Line2D at 0x11bf618d0>,\n",
       " <matplotlib.lines.Line2D at 0x11bf61a90>,\n",
       " <matplotlib.lines.Line2D at 0x11bf61c50>,\n",
       " <matplotlib.lines.Line2D at 0x11bf61e10>,\n",
       " <matplotlib.lines.Line2D at 0x11bf61fd0>,\n",
       " <matplotlib.lines.Line2D at 0x11bf651d0>,\n",
       " <matplotlib.lines.Line2D at 0x11bf65390>,\n",
       " <matplotlib.lines.Line2D at 0x11bf65550>,\n",
       " <matplotlib.lines.Line2D at 0x11bf65710>,\n",
       " <matplotlib.lines.Line2D at 0x11bf658d0>,\n",
       " <matplotlib.lines.Line2D at 0x11bf65a90>,\n",
       " <matplotlib.lines.Line2D at 0x11bf65c50>,\n",
       " <matplotlib.lines.Line2D at 0x11bf65e10>,\n",
       " <matplotlib.lines.Line2D at 0x11bf65fd0>,\n",
       " <matplotlib.lines.Line2D at 0x11bf691d0>,\n",
       " <matplotlib.lines.Line2D at 0x11bf69390>,\n",
       " <matplotlib.lines.Line2D at 0x11bf69550>,\n",
       " <matplotlib.lines.Line2D at 0x11bf69710>,\n",
       " <matplotlib.lines.Line2D at 0x11bf698d0>,\n",
       " <matplotlib.lines.Line2D at 0x11bf69a90>,\n",
       " <matplotlib.lines.Line2D at 0x11bf69c50>,\n",
       " <matplotlib.lines.Line2D at 0x11bf69e10>,\n",
       " <matplotlib.lines.Line2D at 0x11bf69fd0>,\n",
       " <matplotlib.lines.Line2D at 0x11bf6e1d0>,\n",
       " <matplotlib.lines.Line2D at 0x11bf6e390>,\n",
       " <matplotlib.lines.Line2D at 0x11bf6e550>,\n",
       " <matplotlib.lines.Line2D at 0x11bf6e710>,\n",
       " <matplotlib.lines.Line2D at 0x11bf6e8d0>,\n",
       " <matplotlib.lines.Line2D at 0x11bf6ea90>,\n",
       " <matplotlib.lines.Line2D at 0x11bf6ec50>,\n",
       " <matplotlib.lines.Line2D at 0x11bf6ee10>,\n",
       " <matplotlib.lines.Line2D at 0x11bf6efd0>,\n",
       " <matplotlib.lines.Line2D at 0x11bf721d0>,\n",
       " <matplotlib.lines.Line2D at 0x11bf72390>,\n",
       " <matplotlib.lines.Line2D at 0x11bf72550>,\n",
       " <matplotlib.lines.Line2D at 0x11bf72710>,\n",
       " <matplotlib.lines.Line2D at 0x11bf728d0>,\n",
       " <matplotlib.lines.Line2D at 0x11bf72a90>,\n",
       " <matplotlib.lines.Line2D at 0x11bf72c50>,\n",
       " <matplotlib.lines.Line2D at 0x11bf72e10>,\n",
       " <matplotlib.lines.Line2D at 0x11bf72fd0>,\n",
       " <matplotlib.lines.Line2D at 0x11bf761d0>,\n",
       " <matplotlib.lines.Line2D at 0x11bf76390>,\n",
       " <matplotlib.lines.Line2D at 0x11bf76550>,\n",
       " <matplotlib.lines.Line2D at 0x11bf76710>,\n",
       " <matplotlib.lines.Line2D at 0x11bf768d0>,\n",
       " <matplotlib.lines.Line2D at 0x11bf76a90>,\n",
       " <matplotlib.lines.Line2D at 0x11bf76c50>,\n",
       " <matplotlib.lines.Line2D at 0x11bf76e10>,\n",
       " <matplotlib.lines.Line2D at 0x11bf76fd0>,\n",
       " <matplotlib.lines.Line2D at 0x11bf7a1d0>,\n",
       " <matplotlib.lines.Line2D at 0x11bf7a390>,\n",
       " <matplotlib.lines.Line2D at 0x11bf7a550>,\n",
       " <matplotlib.lines.Line2D at 0x11bf7a710>,\n",
       " <matplotlib.lines.Line2D at 0x11bf7a8d0>,\n",
       " <matplotlib.lines.Line2D at 0x11bf7aa90>,\n",
       " <matplotlib.lines.Line2D at 0x11bf7ac50>,\n",
       " <matplotlib.lines.Line2D at 0x11bf7ae10>,\n",
       " <matplotlib.lines.Line2D at 0x11bf7afd0>,\n",
       " <matplotlib.lines.Line2D at 0x11bf7e1d0>,\n",
       " <matplotlib.lines.Line2D at 0x11bf7e390>,\n",
       " <matplotlib.lines.Line2D at 0x11bf7e550>,\n",
       " <matplotlib.lines.Line2D at 0x11bf7e710>,\n",
       " <matplotlib.lines.Line2D at 0x11bf7e8d0>,\n",
       " <matplotlib.lines.Line2D at 0x11bf7ea90>,\n",
       " <matplotlib.lines.Line2D at 0x11bf7ec50>,\n",
       " <matplotlib.lines.Line2D at 0x11bf7ee10>,\n",
       " <matplotlib.lines.Line2D at 0x11bf7efd0>,\n",
       " <matplotlib.lines.Line2D at 0x11bf821d0>,\n",
       " <matplotlib.lines.Line2D at 0x11bf82390>,\n",
       " <matplotlib.lines.Line2D at 0x11bf82550>,\n",
       " <matplotlib.lines.Line2D at 0x11bf82710>,\n",
       " <matplotlib.lines.Line2D at 0x11bf828d0>,\n",
       " <matplotlib.lines.Line2D at 0x11bf82a90>,\n",
       " <matplotlib.lines.Line2D at 0x11bf82c50>,\n",
       " <matplotlib.lines.Line2D at 0x11bf82e10>,\n",
       " <matplotlib.lines.Line2D at 0x11bf82fd0>,\n",
       " <matplotlib.lines.Line2D at 0x11bf881d0>,\n",
       " <matplotlib.lines.Line2D at 0x11bf88390>,\n",
       " <matplotlib.lines.Line2D at 0x11bf88550>,\n",
       " <matplotlib.lines.Line2D at 0x11bf88710>,\n",
       " <matplotlib.lines.Line2D at 0x11bf888d0>,\n",
       " <matplotlib.lines.Line2D at 0x11bf88a90>,\n",
       " <matplotlib.lines.Line2D at 0x11bf88c50>,\n",
       " <matplotlib.lines.Line2D at 0x11bf88e10>,\n",
       " <matplotlib.lines.Line2D at 0x11bf88fd0>,\n",
       " <matplotlib.lines.Line2D at 0x11bf8c1d0>,\n",
       " <matplotlib.lines.Line2D at 0x11bf8c390>,\n",
       " <matplotlib.lines.Line2D at 0x11bf8c550>,\n",
       " <matplotlib.lines.Line2D at 0x11bf8c710>,\n",
       " <matplotlib.lines.Line2D at 0x11bf8c8d0>,\n",
       " <matplotlib.lines.Line2D at 0x11bf8ca90>,\n",
       " <matplotlib.lines.Line2D at 0x11bf8cc50>,\n",
       " <matplotlib.lines.Line2D at 0x11bf8ce10>,\n",
       " <matplotlib.lines.Line2D at 0x11bf8cfd0>,\n",
       " <matplotlib.lines.Line2D at 0x11bf901d0>,\n",
       " <matplotlib.lines.Line2D at 0x11bf90390>,\n",
       " <matplotlib.lines.Line2D at 0x11bf90550>,\n",
       " <matplotlib.lines.Line2D at 0x11bf90710>,\n",
       " <matplotlib.lines.Line2D at 0x11bf908d0>,\n",
       " <matplotlib.lines.Line2D at 0x11bf90a90>,\n",
       " <matplotlib.lines.Line2D at 0x11bf90c50>,\n",
       " <matplotlib.lines.Line2D at 0x11bf90e10>,\n",
       " <matplotlib.lines.Line2D at 0x11bf90fd0>,\n",
       " <matplotlib.lines.Line2D at 0x11bf941d0>,\n",
       " <matplotlib.lines.Line2D at 0x11bf94390>,\n",
       " <matplotlib.lines.Line2D at 0x11bf94550>,\n",
       " <matplotlib.lines.Line2D at 0x11bf94710>,\n",
       " <matplotlib.lines.Line2D at 0x11bf948d0>,\n",
       " <matplotlib.lines.Line2D at 0x11bf94a90>,\n",
       " <matplotlib.lines.Line2D at 0x11bf94c50>,\n",
       " <matplotlib.lines.Line2D at 0x11bf94e10>,\n",
       " <matplotlib.lines.Line2D at 0x11bf94fd0>,\n",
       " <matplotlib.lines.Line2D at 0x11bf981d0>,\n",
       " <matplotlib.lines.Line2D at 0x11bf98390>,\n",
       " <matplotlib.lines.Line2D at 0x11bf98550>,\n",
       " <matplotlib.lines.Line2D at 0x11bf98710>,\n",
       " <matplotlib.lines.Line2D at 0x11bf988d0>,\n",
       " <matplotlib.lines.Line2D at 0x11bf98a90>,\n",
       " <matplotlib.lines.Line2D at 0x11bf98c50>,\n",
       " <matplotlib.lines.Line2D at 0x11bf98e10>,\n",
       " <matplotlib.lines.Line2D at 0x11bf98fd0>,\n",
       " <matplotlib.lines.Line2D at 0x11bf9c1d0>,\n",
       " <matplotlib.lines.Line2D at 0x11bf9c390>,\n",
       " <matplotlib.lines.Line2D at 0x11bf9c550>,\n",
       " <matplotlib.lines.Line2D at 0x11bf9c710>,\n",
       " <matplotlib.lines.Line2D at 0x11bf9c8d0>,\n",
       " <matplotlib.lines.Line2D at 0x11bf9ca90>,\n",
       " <matplotlib.lines.Line2D at 0x11bf9cc50>,\n",
       " <matplotlib.lines.Line2D at 0x11bf9ce10>,\n",
       " <matplotlib.lines.Line2D at 0x11bf9cfd0>,\n",
       " <matplotlib.lines.Line2D at 0x11bfa11d0>,\n",
       " <matplotlib.lines.Line2D at 0x11bfa1390>,\n",
       " <matplotlib.lines.Line2D at 0x11bfa1550>,\n",
       " <matplotlib.lines.Line2D at 0x11bfa1710>,\n",
       " <matplotlib.lines.Line2D at 0x11bfa18d0>,\n",
       " <matplotlib.lines.Line2D at 0x11bfa1a90>,\n",
       " <matplotlib.lines.Line2D at 0x11bfa1c50>,\n",
       " <matplotlib.lines.Line2D at 0x11bfa1e10>,\n",
       " <matplotlib.lines.Line2D at 0x11bfa1fd0>,\n",
       " <matplotlib.lines.Line2D at 0x11bfa51d0>,\n",
       " <matplotlib.lines.Line2D at 0x11bfa5390>,\n",
       " <matplotlib.lines.Line2D at 0x11bfa5550>,\n",
       " <matplotlib.lines.Line2D at 0x11bfa5710>,\n",
       " <matplotlib.lines.Line2D at 0x11bfa58d0>,\n",
       " <matplotlib.lines.Line2D at 0x11bfa5a90>,\n",
       " <matplotlib.lines.Line2D at 0x11bfa5c50>,\n",
       " <matplotlib.lines.Line2D at 0x11bfa5e10>,\n",
       " <matplotlib.lines.Line2D at 0x11bfa5fd0>,\n",
       " <matplotlib.lines.Line2D at 0x11bfa91d0>,\n",
       " <matplotlib.lines.Line2D at 0x11bfa9390>,\n",
       " <matplotlib.lines.Line2D at 0x11bfa9550>,\n",
       " <matplotlib.lines.Line2D at 0x11bfa9710>,\n",
       " <matplotlib.lines.Line2D at 0x11bfa98d0>,\n",
       " <matplotlib.lines.Line2D at 0x11bfa9a90>,\n",
       " <matplotlib.lines.Line2D at 0x11bfa9c50>,\n",
       " <matplotlib.lines.Line2D at 0x11bfa9e10>,\n",
       " <matplotlib.lines.Line2D at 0x11bfa9fd0>,\n",
       " <matplotlib.lines.Line2D at 0x11bfae1d0>,\n",
       " <matplotlib.lines.Line2D at 0x11bfae390>,\n",
       " <matplotlib.lines.Line2D at 0x11bfae550>,\n",
       " <matplotlib.lines.Line2D at 0x11bfae710>,\n",
       " <matplotlib.lines.Line2D at 0x11bfae8d0>,\n",
       " <matplotlib.lines.Line2D at 0x11bfaea90>,\n",
       " <matplotlib.lines.Line2D at 0x11bfaec50>,\n",
       " <matplotlib.lines.Line2D at 0x11bfaee10>,\n",
       " <matplotlib.lines.Line2D at 0x11bfaefd0>,\n",
       " <matplotlib.lines.Line2D at 0x11bfb21d0>,\n",
       " <matplotlib.lines.Line2D at 0x11bfb2390>,\n",
       " <matplotlib.lines.Line2D at 0x11bfb2550>,\n",
       " <matplotlib.lines.Line2D at 0x11bfb2710>,\n",
       " <matplotlib.lines.Line2D at 0x11bfb28d0>,\n",
       " <matplotlib.lines.Line2D at 0x11bfb2a90>,\n",
       " <matplotlib.lines.Line2D at 0x11bfb2c50>,\n",
       " <matplotlib.lines.Line2D at 0x11bfb2e10>,\n",
       " <matplotlib.lines.Line2D at 0x11bfb2fd0>,\n",
       " <matplotlib.lines.Line2D at 0x11bfb61d0>,\n",
       " <matplotlib.lines.Line2D at 0x11bfb6390>,\n",
       " <matplotlib.lines.Line2D at 0x11bfb6550>,\n",
       " <matplotlib.lines.Line2D at 0x11bfb6710>,\n",
       " <matplotlib.lines.Line2D at 0x11bfb68d0>,\n",
       " <matplotlib.lines.Line2D at 0x11bfb6a90>,\n",
       " <matplotlib.lines.Line2D at 0x11bfb6c50>,\n",
       " <matplotlib.lines.Line2D at 0x11bfb6e10>,\n",
       " <matplotlib.lines.Line2D at 0x11bfb6fd0>,\n",
       " <matplotlib.lines.Line2D at 0x11bfbb1d0>,\n",
       " <matplotlib.lines.Line2D at 0x11bfbb390>,\n",
       " <matplotlib.lines.Line2D at 0x11bfbb550>,\n",
       " <matplotlib.lines.Line2D at 0x11bfbb710>,\n",
       " <matplotlib.lines.Line2D at 0x11bfbb8d0>,\n",
       " <matplotlib.lines.Line2D at 0x11bfbba90>,\n",
       " <matplotlib.lines.Line2D at 0x11bfbbc50>,\n",
       " <matplotlib.lines.Line2D at 0x11bfbbe10>,\n",
       " <matplotlib.lines.Line2D at 0x11bfbbfd0>,\n",
       " <matplotlib.lines.Line2D at 0x11bfbf1d0>,\n",
       " <matplotlib.lines.Line2D at 0x11bfbf390>,\n",
       " <matplotlib.lines.Line2D at 0x11bfbf550>,\n",
       " <matplotlib.lines.Line2D at 0x11bfbf710>,\n",
       " <matplotlib.lines.Line2D at 0x11bfbf8d0>,\n",
       " <matplotlib.lines.Line2D at 0x11bfbfa90>,\n",
       " <matplotlib.lines.Line2D at 0x11bfbfc50>,\n",
       " <matplotlib.lines.Line2D at 0x11bfbfe10>,\n",
       " <matplotlib.lines.Line2D at 0x11bfbffd0>,\n",
       " <matplotlib.lines.Line2D at 0x11bfc31d0>,\n",
       " <matplotlib.lines.Line2D at 0x11bfc3390>,\n",
       " <matplotlib.lines.Line2D at 0x11bfc3550>,\n",
       " <matplotlib.lines.Line2D at 0x11bfc3710>,\n",
       " <matplotlib.lines.Line2D at 0x11bfc38d0>,\n",
       " <matplotlib.lines.Line2D at 0x11bfc3a90>,\n",
       " <matplotlib.lines.Line2D at 0x11bfc3c50>,\n",
       " <matplotlib.lines.Line2D at 0x11bfc3e10>,\n",
       " <matplotlib.lines.Line2D at 0x11bfc3fd0>,\n",
       " <matplotlib.lines.Line2D at 0x11bfc71d0>,\n",
       " <matplotlib.lines.Line2D at 0x11bfc7390>,\n",
       " <matplotlib.lines.Line2D at 0x11bfc7550>,\n",
       " <matplotlib.lines.Line2D at 0x11bfc7710>,\n",
       " <matplotlib.lines.Line2D at 0x11bfc78d0>,\n",
       " <matplotlib.lines.Line2D at 0x11bfc7a90>,\n",
       " <matplotlib.lines.Line2D at 0x11bfc7c50>,\n",
       " <matplotlib.lines.Line2D at 0x11bfc7e10>,\n",
       " <matplotlib.lines.Line2D at 0x11bfc7fd0>,\n",
       " <matplotlib.lines.Line2D at 0x11bfcb1d0>,\n",
       " <matplotlib.lines.Line2D at 0x11bfcb390>,\n",
       " <matplotlib.lines.Line2D at 0x11bfcb550>,\n",
       " <matplotlib.lines.Line2D at 0x11bfcb710>,\n",
       " <matplotlib.lines.Line2D at 0x11bfcb8d0>,\n",
       " <matplotlib.lines.Line2D at 0x11bfcba90>,\n",
       " <matplotlib.lines.Line2D at 0x11bfcbc50>,\n",
       " <matplotlib.lines.Line2D at 0x11bfcbe10>,\n",
       " <matplotlib.lines.Line2D at 0x11bfcbfd0>,\n",
       " <matplotlib.lines.Line2D at 0x11bfd01d0>,\n",
       " <matplotlib.lines.Line2D at 0x11bfd0390>,\n",
       " <matplotlib.lines.Line2D at 0x11bfd0550>,\n",
       " <matplotlib.lines.Line2D at 0x11bfd0710>,\n",
       " <matplotlib.lines.Line2D at 0x11bfd08d0>,\n",
       " <matplotlib.lines.Line2D at 0x11bfd0a90>,\n",
       " <matplotlib.lines.Line2D at 0x11bfd0c50>,\n",
       " <matplotlib.lines.Line2D at 0x11bfd0e10>,\n",
       " <matplotlib.lines.Line2D at 0x11bfd0fd0>,\n",
       " <matplotlib.lines.Line2D at 0x11bfd51d0>,\n",
       " <matplotlib.lines.Line2D at 0x11bfd5390>,\n",
       " <matplotlib.lines.Line2D at 0x11bfd5550>,\n",
       " <matplotlib.lines.Line2D at 0x11bfd5710>,\n",
       " <matplotlib.lines.Line2D at 0x11bfd58d0>,\n",
       " <matplotlib.lines.Line2D at 0x11bfd5a90>,\n",
       " <matplotlib.lines.Line2D at 0x11bfd5c50>,\n",
       " <matplotlib.lines.Line2D at 0x11bfd5e10>,\n",
       " <matplotlib.lines.Line2D at 0x11bfd5fd0>,\n",
       " <matplotlib.lines.Line2D at 0x11bfd91d0>,\n",
       " <matplotlib.lines.Line2D at 0x11bfd9390>,\n",
       " <matplotlib.lines.Line2D at 0x11bfd9550>,\n",
       " <matplotlib.lines.Line2D at 0x11bfd9710>,\n",
       " <matplotlib.lines.Line2D at 0x11bfd98d0>,\n",
       " <matplotlib.lines.Line2D at 0x11bfd9a90>,\n",
       " <matplotlib.lines.Line2D at 0x11bfd9c50>,\n",
       " <matplotlib.lines.Line2D at 0x11bfd9e10>,\n",
       " <matplotlib.lines.Line2D at 0x11bfd9fd0>,\n",
       " <matplotlib.lines.Line2D at 0x11bfdd1d0>,\n",
       " <matplotlib.lines.Line2D at 0x11bfdd390>,\n",
       " <matplotlib.lines.Line2D at 0x11bfdd550>,\n",
       " <matplotlib.lines.Line2D at 0x11bfdd710>,\n",
       " <matplotlib.lines.Line2D at 0x11bfdd8d0>,\n",
       " <matplotlib.lines.Line2D at 0x11bfdda90>,\n",
       " <matplotlib.lines.Line2D at 0x11bfddc50>,\n",
       " <matplotlib.lines.Line2D at 0x11bfdde10>,\n",
       " <matplotlib.lines.Line2D at 0x11bfddfd0>,\n",
       " <matplotlib.lines.Line2D at 0x11bfe11d0>,\n",
       " <matplotlib.lines.Line2D at 0x11bfe1390>,\n",
       " <matplotlib.lines.Line2D at 0x11bfe1550>,\n",
       " <matplotlib.lines.Line2D at 0x11bfe1710>,\n",
       " <matplotlib.lines.Line2D at 0x11bfe18d0>,\n",
       " <matplotlib.lines.Line2D at 0x11bfe1a90>,\n",
       " <matplotlib.lines.Line2D at 0x11bfe1c50>,\n",
       " <matplotlib.lines.Line2D at 0x11bfe1e10>,\n",
       " <matplotlib.lines.Line2D at 0x11bfe1fd0>,\n",
       " <matplotlib.lines.Line2D at 0x11bfe51d0>,\n",
       " <matplotlib.lines.Line2D at 0x11bfe5390>,\n",
       " <matplotlib.lines.Line2D at 0x11bfe5550>,\n",
       " <matplotlib.lines.Line2D at 0x11bfe5710>,\n",
       " <matplotlib.lines.Line2D at 0x11bfe58d0>,\n",
       " <matplotlib.lines.Line2D at 0x11bfe5a90>,\n",
       " <matplotlib.lines.Line2D at 0x11bfe5c50>,\n",
       " <matplotlib.lines.Line2D at 0x11bfe5e10>,\n",
       " <matplotlib.lines.Line2D at 0x11bfe5fd0>,\n",
       " <matplotlib.lines.Line2D at 0x11bfea1d0>,\n",
       " <matplotlib.lines.Line2D at 0x11bfea390>,\n",
       " <matplotlib.lines.Line2D at 0x11bfea550>,\n",
       " <matplotlib.lines.Line2D at 0x11bfea710>,\n",
       " <matplotlib.lines.Line2D at 0x11bfea8d0>,\n",
       " <matplotlib.lines.Line2D at 0x11bfeaa90>,\n",
       " <matplotlib.lines.Line2D at 0x11bfeac50>,\n",
       " <matplotlib.lines.Line2D at 0x11bfeae10>,\n",
       " <matplotlib.lines.Line2D at 0x11bfeafd0>,\n",
       " <matplotlib.lines.Line2D at 0x11bfee1d0>,\n",
       " <matplotlib.lines.Line2D at 0x11bfee390>,\n",
       " <matplotlib.lines.Line2D at 0x11bfee550>,\n",
       " <matplotlib.lines.Line2D at 0x11bfee710>,\n",
       " <matplotlib.lines.Line2D at 0x11bfee8d0>,\n",
       " <matplotlib.lines.Line2D at 0x11bfeea90>,\n",
       " <matplotlib.lines.Line2D at 0x11bfeec50>,\n",
       " <matplotlib.lines.Line2D at 0x11bfeee10>,\n",
       " <matplotlib.lines.Line2D at 0x11bfeefd0>,\n",
       " <matplotlib.lines.Line2D at 0x11bff21d0>,\n",
       " <matplotlib.lines.Line2D at 0x11bff2390>,\n",
       " <matplotlib.lines.Line2D at 0x11bff2550>,\n",
       " <matplotlib.lines.Line2D at 0x11bff2710>,\n",
       " <matplotlib.lines.Line2D at 0x11bff28d0>,\n",
       " <matplotlib.lines.Line2D at 0x11bff2a90>,\n",
       " <matplotlib.lines.Line2D at 0x11bff2c50>,\n",
       " <matplotlib.lines.Line2D at 0x11bff2e10>,\n",
       " <matplotlib.lines.Line2D at 0x11bff2fd0>,\n",
       " <matplotlib.lines.Line2D at 0x11bff61d0>,\n",
       " <matplotlib.lines.Line2D at 0x11bff6390>,\n",
       " <matplotlib.lines.Line2D at 0x11bff6550>,\n",
       " <matplotlib.lines.Line2D at 0x11bff6710>,\n",
       " <matplotlib.lines.Line2D at 0x11bff68d0>,\n",
       " <matplotlib.lines.Line2D at 0x11bff6a90>,\n",
       " <matplotlib.lines.Line2D at 0x11bff6c50>,\n",
       " <matplotlib.lines.Line2D at 0x11bff6e10>,\n",
       " <matplotlib.lines.Line2D at 0x11bff6fd0>,\n",
       " <matplotlib.lines.Line2D at 0x11bffa1d0>,\n",
       " <matplotlib.lines.Line2D at 0x11bffa390>,\n",
       " <matplotlib.lines.Line2D at 0x11bffa550>,\n",
       " <matplotlib.lines.Line2D at 0x11bffa710>,\n",
       " <matplotlib.lines.Line2D at 0x11bffa8d0>,\n",
       " <matplotlib.lines.Line2D at 0x11bffaa90>,\n",
       " <matplotlib.lines.Line2D at 0x11bffac50>,\n",
       " <matplotlib.lines.Line2D at 0x11bffae10>,\n",
       " <matplotlib.lines.Line2D at 0x11bffafd0>,\n",
       " <matplotlib.lines.Line2D at 0x11bfff1d0>,\n",
       " <matplotlib.lines.Line2D at 0x11bfff390>,\n",
       " <matplotlib.lines.Line2D at 0x11bfff550>,\n",
       " <matplotlib.lines.Line2D at 0x11bfff710>,\n",
       " <matplotlib.lines.Line2D at 0x11bfff8d0>,\n",
       " <matplotlib.lines.Line2D at 0x11bfffa90>,\n",
       " <matplotlib.lines.Line2D at 0x11bfffc50>,\n",
       " <matplotlib.lines.Line2D at 0x11bfffe10>,\n",
       " <matplotlib.lines.Line2D at 0x11bffffd0>,\n",
       " <matplotlib.lines.Line2D at 0x11c0041d0>,\n",
       " <matplotlib.lines.Line2D at 0x11c004390>,\n",
       " <matplotlib.lines.Line2D at 0x11c004550>,\n",
       " <matplotlib.lines.Line2D at 0x11c004710>,\n",
       " <matplotlib.lines.Line2D at 0x11c0048d0>,\n",
       " <matplotlib.lines.Line2D at 0x11c004a90>,\n",
       " <matplotlib.lines.Line2D at 0x11c004c50>,\n",
       " <matplotlib.lines.Line2D at 0x11c004e10>,\n",
       " <matplotlib.lines.Line2D at 0x11c004fd0>,\n",
       " <matplotlib.lines.Line2D at 0x11c0071d0>,\n",
       " <matplotlib.lines.Line2D at 0x11c007390>,\n",
       " <matplotlib.lines.Line2D at 0x11c007550>,\n",
       " <matplotlib.lines.Line2D at 0x11c007710>,\n",
       " <matplotlib.lines.Line2D at 0x11c0078d0>,\n",
       " <matplotlib.lines.Line2D at 0x11c007a90>,\n",
       " <matplotlib.lines.Line2D at 0x11c007c50>,\n",
       " <matplotlib.lines.Line2D at 0x11c007e10>,\n",
       " <matplotlib.lines.Line2D at 0x11c007fd0>,\n",
       " <matplotlib.lines.Line2D at 0x11c00b1d0>,\n",
       " <matplotlib.lines.Line2D at 0x11c00b390>,\n",
       " <matplotlib.lines.Line2D at 0x11c00b550>,\n",
       " <matplotlib.lines.Line2D at 0x11c00b710>,\n",
       " <matplotlib.lines.Line2D at 0x11c00b8d0>,\n",
       " <matplotlib.lines.Line2D at 0x11c00ba90>,\n",
       " <matplotlib.lines.Line2D at 0x11c00bc50>,\n",
       " <matplotlib.lines.Line2D at 0x11c00be10>,\n",
       " <matplotlib.lines.Line2D at 0x11c00bfd0>,\n",
       " <matplotlib.lines.Line2D at 0x11c0101d0>,\n",
       " <matplotlib.lines.Line2D at 0x11c010390>,\n",
       " <matplotlib.lines.Line2D at 0x11c010550>,\n",
       " <matplotlib.lines.Line2D at 0x11c010710>,\n",
       " <matplotlib.lines.Line2D at 0x11c0108d0>,\n",
       " <matplotlib.lines.Line2D at 0x11c010a90>,\n",
       " <matplotlib.lines.Line2D at 0x11c010c50>,\n",
       " <matplotlib.lines.Line2D at 0x11c010e10>,\n",
       " <matplotlib.lines.Line2D at 0x11c010fd0>,\n",
       " <matplotlib.lines.Line2D at 0x11c0141d0>,\n",
       " <matplotlib.lines.Line2D at 0x11c014390>,\n",
       " <matplotlib.lines.Line2D at 0x11c014550>,\n",
       " <matplotlib.lines.Line2D at 0x11c014710>,\n",
       " <matplotlib.lines.Line2D at 0x11c0148d0>,\n",
       " <matplotlib.lines.Line2D at 0x11c014a90>,\n",
       " <matplotlib.lines.Line2D at 0x11c014c50>,\n",
       " <matplotlib.lines.Line2D at 0x11c014e10>,\n",
       " <matplotlib.lines.Line2D at 0x11c014fd0>,\n",
       " <matplotlib.lines.Line2D at 0x11c0181d0>,\n",
       " <matplotlib.lines.Line2D at 0x11c018390>,\n",
       " <matplotlib.lines.Line2D at 0x11c018550>,\n",
       " <matplotlib.lines.Line2D at 0x11c018710>,\n",
       " <matplotlib.lines.Line2D at 0x11c0188d0>,\n",
       " <matplotlib.lines.Line2D at 0x11c018a90>,\n",
       " <matplotlib.lines.Line2D at 0x11c018c50>,\n",
       " <matplotlib.lines.Line2D at 0x11c018e10>,\n",
       " <matplotlib.lines.Line2D at 0x11c018fd0>,\n",
       " <matplotlib.lines.Line2D at 0x11c01c1d0>,\n",
       " <matplotlib.lines.Line2D at 0x11c01c390>,\n",
       " <matplotlib.lines.Line2D at 0x11c01c550>,\n",
       " <matplotlib.lines.Line2D at 0x11c01c710>,\n",
       " <matplotlib.lines.Line2D at 0x11c01c8d0>,\n",
       " <matplotlib.lines.Line2D at 0x11c01ca90>,\n",
       " <matplotlib.lines.Line2D at 0x11c01cc50>,\n",
       " <matplotlib.lines.Line2D at 0x11c01ce10>,\n",
       " <matplotlib.lines.Line2D at 0x11c01cfd0>,\n",
       " <matplotlib.lines.Line2D at 0x11c0201d0>,\n",
       " <matplotlib.lines.Line2D at 0x11c020390>,\n",
       " <matplotlib.lines.Line2D at 0x11c020550>,\n",
       " <matplotlib.lines.Line2D at 0x11c020710>,\n",
       " <matplotlib.lines.Line2D at 0x11c0208d0>,\n",
       " <matplotlib.lines.Line2D at 0x11c020a90>,\n",
       " <matplotlib.lines.Line2D at 0x11c020c50>,\n",
       " <matplotlib.lines.Line2D at 0x11c020e10>,\n",
       " <matplotlib.lines.Line2D at 0x11c020fd0>,\n",
       " <matplotlib.lines.Line2D at 0x11c0251d0>,\n",
       " <matplotlib.lines.Line2D at 0x11c025390>,\n",
       " <matplotlib.lines.Line2D at 0x11c025550>,\n",
       " <matplotlib.lines.Line2D at 0x11c025710>,\n",
       " <matplotlib.lines.Line2D at 0x11c0258d0>,\n",
       " <matplotlib.lines.Line2D at 0x11c025a90>,\n",
       " <matplotlib.lines.Line2D at 0x11c025c50>,\n",
       " <matplotlib.lines.Line2D at 0x11c025e10>,\n",
       " <matplotlib.lines.Line2D at 0x11c025fd0>,\n",
       " <matplotlib.lines.Line2D at 0x11c0291d0>,\n",
       " <matplotlib.lines.Line2D at 0x11c029390>,\n",
       " <matplotlib.lines.Line2D at 0x11c029550>,\n",
       " <matplotlib.lines.Line2D at 0x11c029710>,\n",
       " <matplotlib.lines.Line2D at 0x11c0298d0>,\n",
       " <matplotlib.lines.Line2D at 0x11c029a90>,\n",
       " <matplotlib.lines.Line2D at 0x11c029c50>,\n",
       " <matplotlib.lines.Line2D at 0x11c029e10>,\n",
       " <matplotlib.lines.Line2D at 0x11c029fd0>,\n",
       " <matplotlib.lines.Line2D at 0x11c02d1d0>,\n",
       " <matplotlib.lines.Line2D at 0x11c02d390>,\n",
       " <matplotlib.lines.Line2D at 0x11c02d550>,\n",
       " <matplotlib.lines.Line2D at 0x11c02d710>,\n",
       " <matplotlib.lines.Line2D at 0x11c02d8d0>,\n",
       " <matplotlib.lines.Line2D at 0x11c02da90>,\n",
       " <matplotlib.lines.Line2D at 0x11c02dc50>,\n",
       " <matplotlib.lines.Line2D at 0x11c02de10>,\n",
       " <matplotlib.lines.Line2D at 0x11c02dfd0>,\n",
       " <matplotlib.lines.Line2D at 0x11c0321d0>,\n",
       " <matplotlib.lines.Line2D at 0x11c032390>,\n",
       " <matplotlib.lines.Line2D at 0x11c032550>,\n",
       " <matplotlib.lines.Line2D at 0x11c032710>,\n",
       " <matplotlib.lines.Line2D at 0x11c0328d0>,\n",
       " <matplotlib.lines.Line2D at 0x11c032a90>,\n",
       " <matplotlib.lines.Line2D at 0x11c032c50>,\n",
       " <matplotlib.lines.Line2D at 0x11c032e10>,\n",
       " <matplotlib.lines.Line2D at 0x11c032fd0>,\n",
       " <matplotlib.lines.Line2D at 0x11c0361d0>,\n",
       " <matplotlib.lines.Line2D at 0x11c036390>,\n",
       " <matplotlib.lines.Line2D at 0x11c036550>,\n",
       " <matplotlib.lines.Line2D at 0x11c036710>,\n",
       " <matplotlib.lines.Line2D at 0x11c0368d0>,\n",
       " <matplotlib.lines.Line2D at 0x11c036a90>,\n",
       " <matplotlib.lines.Line2D at 0x11c036c50>,\n",
       " <matplotlib.lines.Line2D at 0x11c036e10>,\n",
       " <matplotlib.lines.Line2D at 0x11c036fd0>,\n",
       " <matplotlib.lines.Line2D at 0x11c03a1d0>,\n",
       " <matplotlib.lines.Line2D at 0x11c03a390>,\n",
       " <matplotlib.lines.Line2D at 0x11c03a550>,\n",
       " <matplotlib.lines.Line2D at 0x11c03a710>,\n",
       " <matplotlib.lines.Line2D at 0x11c03a8d0>,\n",
       " <matplotlib.lines.Line2D at 0x11c03aa90>,\n",
       " <matplotlib.lines.Line2D at 0x11c03ac50>,\n",
       " <matplotlib.lines.Line2D at 0x11c03ae10>,\n",
       " <matplotlib.lines.Line2D at 0x11c03afd0>,\n",
       " <matplotlib.lines.Line2D at 0x11c03e1d0>,\n",
       " <matplotlib.lines.Line2D at 0x11c03e390>,\n",
       " <matplotlib.lines.Line2D at 0x11c03e550>,\n",
       " <matplotlib.lines.Line2D at 0x11c03e710>,\n",
       " <matplotlib.lines.Line2D at 0x11c03e8d0>,\n",
       " <matplotlib.lines.Line2D at 0x11c03ea90>,\n",
       " <matplotlib.lines.Line2D at 0x11c03ec50>,\n",
       " <matplotlib.lines.Line2D at 0x11c03ee10>,\n",
       " <matplotlib.lines.Line2D at 0x11c03efd0>,\n",
       " <matplotlib.lines.Line2D at 0x11c0421d0>,\n",
       " <matplotlib.lines.Line2D at 0x11c042390>,\n",
       " <matplotlib.lines.Line2D at 0x11c042550>,\n",
       " <matplotlib.lines.Line2D at 0x11c042710>,\n",
       " <matplotlib.lines.Line2D at 0x11c0428d0>,\n",
       " <matplotlib.lines.Line2D at 0x11c042a90>,\n",
       " <matplotlib.lines.Line2D at 0x11c042c50>,\n",
       " <matplotlib.lines.Line2D at 0x11c042e10>,\n",
       " <matplotlib.lines.Line2D at 0x11c042fd0>,\n",
       " <matplotlib.lines.Line2D at 0x11c0461d0>,\n",
       " <matplotlib.lines.Line2D at 0x11c046390>,\n",
       " <matplotlib.lines.Line2D at 0x11c046550>,\n",
       " <matplotlib.lines.Line2D at 0x11c046710>,\n",
       " <matplotlib.lines.Line2D at 0x11c0468d0>,\n",
       " <matplotlib.lines.Line2D at 0x11c046a90>,\n",
       " <matplotlib.lines.Line2D at 0x11c046c50>,\n",
       " <matplotlib.lines.Line2D at 0x11c046e10>,\n",
       " <matplotlib.lines.Line2D at 0x11c046fd0>,\n",
       " <matplotlib.lines.Line2D at 0x11c04c1d0>,\n",
       " <matplotlib.lines.Line2D at 0x11c04c390>,\n",
       " <matplotlib.lines.Line2D at 0x11c04c550>,\n",
       " <matplotlib.lines.Line2D at 0x11c04c710>,\n",
       " <matplotlib.lines.Line2D at 0x11c04c8d0>,\n",
       " <matplotlib.lines.Line2D at 0x11c04ca90>,\n",
       " <matplotlib.lines.Line2D at 0x11c04cc50>,\n",
       " <matplotlib.lines.Line2D at 0x11c04ce10>,\n",
       " <matplotlib.lines.Line2D at 0x11c04cfd0>,\n",
       " <matplotlib.lines.Line2D at 0x11c0501d0>,\n",
       " <matplotlib.lines.Line2D at 0x11c050390>,\n",
       " <matplotlib.lines.Line2D at 0x11c050550>,\n",
       " <matplotlib.lines.Line2D at 0x11c050710>,\n",
       " <matplotlib.lines.Line2D at 0x11c0508d0>,\n",
       " <matplotlib.lines.Line2D at 0x11c050a90>,\n",
       " <matplotlib.lines.Line2D at 0x11c050c50>,\n",
       " <matplotlib.lines.Line2D at 0x11c050e10>,\n",
       " <matplotlib.lines.Line2D at 0x11c050fd0>,\n",
       " <matplotlib.lines.Line2D at 0x11c0541d0>,\n",
       " <matplotlib.lines.Line2D at 0x11c054390>,\n",
       " <matplotlib.lines.Line2D at 0x11c054550>,\n",
       " <matplotlib.lines.Line2D at 0x11c054710>,\n",
       " <matplotlib.lines.Line2D at 0x11c0548d0>,\n",
       " <matplotlib.lines.Line2D at 0x11c054a90>,\n",
       " <matplotlib.lines.Line2D at 0x11c054c50>,\n",
       " <matplotlib.lines.Line2D at 0x11c054e10>,\n",
       " <matplotlib.lines.Line2D at 0x11c054fd0>,\n",
       " <matplotlib.lines.Line2D at 0x11c0581d0>,\n",
       " <matplotlib.lines.Line2D at 0x11c058390>,\n",
       " <matplotlib.lines.Line2D at 0x11c058550>,\n",
       " <matplotlib.lines.Line2D at 0x11c058710>,\n",
       " <matplotlib.lines.Line2D at 0x11c0588d0>,\n",
       " <matplotlib.lines.Line2D at 0x11c058a90>,\n",
       " <matplotlib.lines.Line2D at 0x11c058c50>,\n",
       " <matplotlib.lines.Line2D at 0x11c058e10>,\n",
       " <matplotlib.lines.Line2D at 0x11c058fd0>,\n",
       " <matplotlib.lines.Line2D at 0x11c05c1d0>,\n",
       " <matplotlib.lines.Line2D at 0x11c05c390>,\n",
       " <matplotlib.lines.Line2D at 0x11c05c550>,\n",
       " <matplotlib.lines.Line2D at 0x11c05c710>,\n",
       " <matplotlib.lines.Line2D at 0x11c05c8d0>,\n",
       " <matplotlib.lines.Line2D at 0x11c05ca90>,\n",
       " <matplotlib.lines.Line2D at 0x11c05cc50>,\n",
       " <matplotlib.lines.Line2D at 0x11c05ce10>,\n",
       " <matplotlib.lines.Line2D at 0x11c05cfd0>,\n",
       " <matplotlib.lines.Line2D at 0x11c0601d0>,\n",
       " <matplotlib.lines.Line2D at 0x11c060390>,\n",
       " <matplotlib.lines.Line2D at 0x11c060550>,\n",
       " <matplotlib.lines.Line2D at 0x11c060710>,\n",
       " <matplotlib.lines.Line2D at 0x11c0608d0>,\n",
       " <matplotlib.lines.Line2D at 0x11c060a90>,\n",
       " <matplotlib.lines.Line2D at 0x11c060c50>,\n",
       " <matplotlib.lines.Line2D at 0x11c060e10>,\n",
       " <matplotlib.lines.Line2D at 0x11c060fd0>,\n",
       " <matplotlib.lines.Line2D at 0x11c0651d0>,\n",
       " <matplotlib.lines.Line2D at 0x11c065390>,\n",
       " <matplotlib.lines.Line2D at 0x11c065550>,\n",
       " <matplotlib.lines.Line2D at 0x11c065710>,\n",
       " <matplotlib.lines.Line2D at 0x11c0658d0>,\n",
       " <matplotlib.lines.Line2D at 0x11c065a90>,\n",
       " <matplotlib.lines.Line2D at 0x11c065c50>,\n",
       " <matplotlib.lines.Line2D at 0x11c065e10>,\n",
       " <matplotlib.lines.Line2D at 0x11c065fd0>,\n",
       " <matplotlib.lines.Line2D at 0x11c0691d0>,\n",
       " <matplotlib.lines.Line2D at 0x11c069390>,\n",
       " <matplotlib.lines.Line2D at 0x11c069550>,\n",
       " <matplotlib.lines.Line2D at 0x11c069710>,\n",
       " <matplotlib.lines.Line2D at 0x11c0698d0>,\n",
       " <matplotlib.lines.Line2D at 0x11c069a90>,\n",
       " <matplotlib.lines.Line2D at 0x11c069c50>,\n",
       " <matplotlib.lines.Line2D at 0x11c069e10>,\n",
       " <matplotlib.lines.Line2D at 0x11c069fd0>,\n",
       " <matplotlib.lines.Line2D at 0x11c06d1d0>,\n",
       " <matplotlib.lines.Line2D at 0x11c06d390>,\n",
       " <matplotlib.lines.Line2D at 0x11c06d550>,\n",
       " <matplotlib.lines.Line2D at 0x11c06d710>,\n",
       " <matplotlib.lines.Line2D at 0x11c06d8d0>,\n",
       " <matplotlib.lines.Line2D at 0x11c06da90>,\n",
       " <matplotlib.lines.Line2D at 0x11c06dc50>,\n",
       " <matplotlib.lines.Line2D at 0x11c06de10>,\n",
       " <matplotlib.lines.Line2D at 0x11c06dfd0>,\n",
       " <matplotlib.lines.Line2D at 0x11c0711d0>,\n",
       " <matplotlib.lines.Line2D at 0x11c071390>,\n",
       " <matplotlib.lines.Line2D at 0x11c071550>,\n",
       " <matplotlib.lines.Line2D at 0x11c071710>,\n",
       " <matplotlib.lines.Line2D at 0x11c0718d0>]"
      ]
     },
     "execution_count": 131,
     "metadata": {},
     "output_type": "execute_result"
    },
    {
     "data": {
      "image/png": "[encoded data removed]",
      "text/plain": [
       "<Figure size 432x288 with 1 Axes>"
      ]
     },
     "metadata": {
      "needs_background": "light"
     },
     "output_type": "display_data"
    }
   ],
   "source": [
    "plt.plot(steps[:10])"
   ]
  },
  {
   "cell_type": "code",
   "execution_count": null,
   "metadata": {},
   "outputs": [],
   "source": []
  },
  {
   "cell_type": "code",
   "execution_count": null,
   "metadata": {},
   "outputs": [],
   "source": []
  }
 ],
 "metadata": {
  "kernelspec": {
   "display_name": "Python 3.7.4 64-bit",
   "language": "python",
   "name": "python37464bite6fb6f0fe65946aba563c3a9ee546caa"
  },
  "language_info": {
   "codemirror_mode": {
    "name": "ipython",
    "version": 3
   },
   "file_extension": ".py",
   "mimetype": "text/x-python",
   "name": "python",
   "nbconvert_exporter": "python",
   "pygments_lexer": "ipython3",
   "version": "3.7.4"
  }
 },
 "nbformat": 4,
 "nbformat_minor": 4
}
